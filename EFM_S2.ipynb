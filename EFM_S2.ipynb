{
  "nbformat": 4,
  "nbformat_minor": 0,
  "metadata": {
    "colab": {
      "name": "EFM_S2.ipynb",
      "provenance": [],
      "include_colab_link": true
    },
    "kernelspec": {
      "name": "python3",
      "display_name": "Python 3"
    },
    "language_info": {
      "name": "python"
    }
  },
  "cells": [
    {
      "cell_type": "markdown",
      "metadata": {
        "id": "view-in-github",
        "colab_type": "text"
      },
      "source": [
        "<a href=\"https://colab.research.google.com/github/nsalazard/EFM-analisis-de-datos-/blob/main/EFM_S2.ipynb\" target=\"_parent\"><img src=\"https://colab.research.google.com/assets/colab-badge.svg\" alt=\"Open In Colab\"/></a>"
      ]
    },
    {
      "cell_type": "markdown",
      "metadata": {
        "id": "m84ABPgE4guI"
      },
      "source": [
        "#R_0"
      ]
    },
    {
      "cell_type": "code",
      "metadata": {
        "colab": {
          "base_uri": "https://localhost:8080/",
          "height": 204
        },
        "id": "B94HsXfA4Uyf",
        "outputId": "0930809d-094c-4b71-debc-1556912955bd"
      },
      "source": [
        "import gspread\n",
        "import pandas as pd\n",
        "import statsmodels.api as sm\n",
        "import matplotlib.pyplot as plt \n",
        "import numpy as np\n",
        "from scipy.optimize import curve_fit\n",
        "from scipy.stats import norm\n",
        "import matplotlib.colors as mcolors\n",
        "from google.colab import auth\n",
        "from oauth2client.client import GoogleCredentials\n",
        "from scipy.interpolate import make_interp_spline, BSpline  #lo uso para sacar curvas suaves\n",
        "\n",
        "auth.authenticate_user()\n",
        "gc = gspread.authorize(GoogleCredentials.get_application_default())\n",
        "\n",
        "wb = gc.open_by_url('https://docs.google.com/spreadsheets/d/1JtcmI-pusADI0tWl0X0yxQCPOjhKlacSxAWT1Bc3cOg/edit#gid=903312660')\n",
        "worksheet=wb.worksheet('Ro')\n",
        "rows = worksheet.get_all_values()\n",
        "df=pd.DataFrame(rows)\n",
        "titles=pd.DataFrame(rows)\n",
        "df.columns = df.iloc[0]# Esto pone las columnas del dataframe con los mismos nombres que la primera fila del sheets\n",
        "titles=titles.iloc[0:1]\n",
        "df = df.iloc[1:]#esto se salta la primera fila que es los titulos de las columnas porque ya nombramos a las columnas en la linea anterior y se repetirian\n",
        "df.head()"
      ],
      "execution_count": null,
      "outputs": [
        {
          "output_type": "execute_result",
          "data": {
            "text/html": [
              "<div>\n",
              "<style scoped>\n",
              "    .dataframe tbody tr th:only-of-type {\n",
              "        vertical-align: middle;\n",
              "    }\n",
              "\n",
              "    .dataframe tbody tr th {\n",
              "        vertical-align: top;\n",
              "    }\n",
              "\n",
              "    .dataframe thead th {\n",
              "        text-align: right;\n",
              "    }\n",
              "</style>\n",
              "<table border=\"1\" class=\"dataframe\">\n",
              "  <thead>\n",
              "    <tr style=\"text-align: right;\">\n",
              "      <th></th>\n",
              "      <th>IF[mA]</th>\n",
              "      <th>VF[mV]</th>\n",
              "      <th>R</th>\n",
              "      <th>Incertidumbre R</th>\n",
              "      <th></th>\n",
              "      <th></th>\n",
              "      <th></th>\n",
              "      <th></th>\n",
              "      <th></th>\n",
              "      <th></th>\n",
              "      <th></th>\n",
              "    </tr>\n",
              "  </thead>\n",
              "  <tbody>\n",
              "    <tr>\n",
              "      <th>1</th>\n",
              "      <td>160.1</td>\n",
              "      <td>46.9</td>\n",
              "      <td>0.293</td>\n",
              "      <td>4.04E-04</td>\n",
              "      <td></td>\n",
              "      <td></td>\n",
              "      <td></td>\n",
              "      <td></td>\n",
              "      <td></td>\n",
              "      <td></td>\n",
              "      <td></td>\n",
              "    </tr>\n",
              "    <tr>\n",
              "      <th>2</th>\n",
              "      <td>151.2</td>\n",
              "      <td>43.6</td>\n",
              "      <td>0.288</td>\n",
              "      <td>4.26E-04</td>\n",
              "      <td></td>\n",
              "      <td></td>\n",
              "      <td></td>\n",
              "      <td></td>\n",
              "      <td></td>\n",
              "      <td></td>\n",
              "      <td></td>\n",
              "    </tr>\n",
              "    <tr>\n",
              "      <th>3</th>\n",
              "      <td>140.6</td>\n",
              "      <td>39.9</td>\n",
              "      <td>0.284</td>\n",
              "      <td>4.57E-04</td>\n",
              "      <td></td>\n",
              "      <td></td>\n",
              "      <td></td>\n",
              "      <td></td>\n",
              "      <td></td>\n",
              "      <td></td>\n",
              "      <td></td>\n",
              "    </tr>\n",
              "    <tr>\n",
              "      <th>4</th>\n",
              "      <td>128.9</td>\n",
              "      <td>35.9</td>\n",
              "      <td>0.279</td>\n",
              "      <td>4.96E-04</td>\n",
              "      <td></td>\n",
              "      <td></td>\n",
              "      <td></td>\n",
              "      <td></td>\n",
              "      <td></td>\n",
              "      <td></td>\n",
              "      <td></td>\n",
              "    </tr>\n",
              "    <tr>\n",
              "      <th>5</th>\n",
              "      <td>118.8</td>\n",
              "      <td>32.6</td>\n",
              "      <td>0.274</td>\n",
              "      <td>5.36E-04</td>\n",
              "      <td></td>\n",
              "      <td></td>\n",
              "      <td></td>\n",
              "      <td></td>\n",
              "      <td></td>\n",
              "      <td></td>\n",
              "      <td></td>\n",
              "    </tr>\n",
              "  </tbody>\n",
              "</table>\n",
              "</div>"
            ],
            "text/plain": [
              "0 IF[mA] VF[mV]      R Incertidumbre R              \n",
              "1  160.1   46.9  0.293        4.04E-04              \n",
              "2  151.2   43.6  0.288        4.26E-04              \n",
              "3  140.6   39.9  0.284        4.57E-04              \n",
              "4  128.9   35.9  0.279        4.96E-04              \n",
              "5  118.8   32.6  0.274        5.36E-04              "
            ]
          },
          "metadata": {},
          "execution_count": 10
        }
      ]
    },
    {
      "cell_type": "code",
      "metadata": {
        "id": "c5pEMd4R6Uxa"
      },
      "source": [
        "nombres=df.columns[0:4]\n",
        "for name in nombres:\n",
        "  df[name]= pd.to_numeric(df[name])"
      ],
      "execution_count": null,
      "outputs": []
    },
    {
      "cell_type": "code",
      "metadata": {
        "colab": {
          "base_uri": "https://localhost:8080/"
        },
        "id": "bOHXHVxk60hD",
        "outputId": "05a22c9c-d12b-4957-c4e3-73fb23943f4e"
      },
      "source": [
        "df.columns[0:4]"
      ],
      "execution_count": null,
      "outputs": [
        {
          "output_type": "execute_result",
          "data": {
            "text/plain": [
              "Index(['IF[mA]', 'VF[mV]', 'R', 'Incertidumbre R'], dtype='object', name=0)"
            ]
          },
          "metadata": {},
          "execution_count": 8
        }
      ]
    },
    {
      "cell_type": "code",
      "metadata": {
        "id": "Tq5xFa6T6gVv"
      },
      "source": [
        "def func(x,a,b):\n",
        "  return a*x + b"
      ],
      "execution_count": null,
      "outputs": []
    },
    {
      "cell_type": "code",
      "metadata": {
        "colab": {
          "base_uri": "https://localhost:8080/",
          "height": 312
        },
        "id": "aqW7ZISX6rhi",
        "outputId": "d24dff14-3ee3-4aa1-e655-2e2db8398f8e"
      },
      "source": [
        "valx1=df.loc[:30, \"IF[mA]\"]\n",
        "valy1=df.loc[:30, \"R\"]\n",
        "x1=valx1.values\n",
        "y1=valy1.values\n",
        "\n",
        "plt.scatter(x1, y1,label=\"Datos experimentales\",color=\"black\")\n",
        "\n",
        "popt, pcov = curve_fit(func, x1, y1)\n",
        "plt.plot(x1, func(x1, *popt), 'r-', label='fit: a=%5.5f, b=%5.5f' % tuple(popt))\n",
        "\n",
        "#plt.xlim([0, 165])\n",
        "#plt.ylim([0, 1])\n",
        "\n",
        "plt.grid(b=True,which=\"both\")\n",
        "plt.legend(loc=\"lower right\")\n",
        "plt.xlabel(\"Corriente del filamento, I [mA]\")\n",
        "plt.ylabel(\"Resistencia del filamento, R [Ω]\")\n",
        "plt.title(\"Resistencia a temperatura ambiente del filamento, Ro\")"
      ],
      "execution_count": null,
      "outputs": [
        {
          "output_type": "execute_result",
          "data": {
            "text/plain": [
              "Text(0.5, 1.0, 'Resistencia a temperatura ambiente del filamento, Ro')"
            ]
          },
          "metadata": {},
          "execution_count": 14
        },
        {
          "output_type": "display_data",
          "data": {
            "image/png": "[encoded data removed]",
            "text/plain": [
              "<Figure size 432x288 with 1 Axes>"
            ]
          },
          "metadata": {
            "needs_background": "light"
          }
        }
      ]
    },
    {
      "cell_type": "code",
      "metadata": {
        "colab": {
          "base_uri": "https://localhost:8080/"
        },
        "id": "fp4kKxqrdrKq",
        "outputId": "2ba3a11a-592f-4a63-d0e4-5adad6d92494"
      },
      "source": [
        "print(popt)\n"
      ],
      "execution_count": null,
      "outputs": [
        {
          "output_type": "stream",
          "name": "stdout",
          "text": [
            "[0.00027078 0.24397071]\n"
          ]
        }
      ]
    },
    {
      "cell_type": "markdown",
      "metadata": {
        "id": "A2qHHCY8VOqG"
      },
      "source": [
        "#Puntos máximo"
      ]
    },
    {
      "cell_type": "code",
      "metadata": {
        "colab": {
          "base_uri": "https://localhost:8080/",
          "height": 204
        },
        "id": "B3FO_QiuVMv5",
        "outputId": "ba0eb333-be70-4947-eb0a-16cb83279cb5"
      },
      "source": [
        "worksheet1=wb.worksheet('Espectro')\n",
        "rows1 = worksheet1.get_all_values()\n",
        "df1=pd.DataFrame(rows1)\n",
        "titles1=pd.DataFrame(rows1)\n",
        "df1.columns = df1.iloc[0]# Esto pone las columnas del dataframe con los mismos nombres que la primera fila del sheets\n",
        "titles=titles.iloc[0:1]\n",
        "df1 = df1.iloc[1:]#esto se salta la primera fila que es los titulos de las columnas porque ya nombramos a las columnas en la linea anterior y se repetirian\n",
        "df1.head()"
      ],
      "execution_count": null,
      "outputs": [
        {
          "output_type": "execute_result",
          "data": {
            "text/html": [
              "<div>\n",
              "<style scoped>\n",
              "    .dataframe tbody tr th:only-of-type {\n",
              "        vertical-align: middle;\n",
              "    }\n",
              "\n",
              "    .dataframe tbody tr th {\n",
              "        vertical-align: top;\n",
              "    }\n",
              "\n",
              "    .dataframe thead th {\n",
              "        text-align: right;\n",
              "    }\n",
              "</style>\n",
              "<table border=\"1\" class=\"dataframe\">\n",
              "  <thead>\n",
              "    <tr style=\"text-align: right;\">\n",
              "      <th></th>\n",
              "      <th>λ  [± 2 nm]</th>\n",
              "      <th>IL [u.a]</th>\n",
              "    </tr>\n",
              "  </thead>\n",
              "  <tbody>\n",
              "    <tr>\n",
              "      <th>1</th>\n",
              "      <td>200</td>\n",
              "      <td>12.6</td>\n",
              "    </tr>\n",
              "    <tr>\n",
              "      <th>2</th>\n",
              "      <td>210</td>\n",
              "      <td>11.6</td>\n",
              "    </tr>\n",
              "    <tr>\n",
              "      <th>3</th>\n",
              "      <td>220</td>\n",
              "      <td>10.9</td>\n",
              "    </tr>\n",
              "    <tr>\n",
              "      <th>4</th>\n",
              "      <td>230</td>\n",
              "      <td>10.4</td>\n",
              "    </tr>\n",
              "    <tr>\n",
              "      <th>5</th>\n",
              "      <td>240</td>\n",
              "      <td>10.2</td>\n",
              "    </tr>\n",
              "  </tbody>\n",
              "</table>\n",
              "</div>"
            ],
            "text/plain": [
              "0 λ  [± 2 nm] IL [u.a]\n",
              "1         200     12.6\n",
              "2         210     11.6\n",
              "3         220     10.9\n",
              "4         230     10.4\n",
              "5         240     10.2"
            ]
          },
          "metadata": {},
          "execution_count": 13
        }
      ]
    },
    {
      "cell_type": "code",
      "metadata": {
        "id": "eYIfqd5-V1wD"
      },
      "source": [
        "nombres1=df1.columns.tolist()\n",
        "for name in nombres1:\n",
        "  df1[name]= pd.to_numeric(df1[name])"
      ],
      "execution_count": null,
      "outputs": []
    },
    {
      "cell_type": "code",
      "metadata": {
        "colab": {
          "base_uri": "https://localhost:8080/",
          "height": 312
        },
        "id": "_--nOq5kW0QT",
        "outputId": "6f4e6861-5ee5-4d05-cfc9-bd2e01d1a272"
      },
      "source": [
        "valx1=df1.loc[:82, \"λ  [± 2 nm]\"]\n",
        "valy1=df1.loc[:82, \"IL [u.a]\"]\n",
        "x1=valx1.values\n",
        "y1=valy1.values\n",
        "plt.ylim([0, 200])\n",
        "\n",
        "plt.scatter(x1, y1,s=20,label=\"Datos experimentales\",color=\"black\")\n",
        "\n",
        "#Curva suave\n",
        "xnew = np.linspace(x1.min(),x1.max(),300) #300 represents number of points to make between R.min and R.max\n",
        "spl = make_interp_spline(x1, y1, k=3) #BSpline object\n",
        "power_smooth = spl(xnew)\n",
        "plt.plot(xnew,power_smooth)\n",
        "\n",
        "#plt.loglog(basex=10,basey=10)\n",
        "plt.grid(b=True,which=\"both\")\n",
        "plt.legend(loc=\"lower right\")\n",
        "plt.xlabel(\"Longitud de onda [nm]\")\n",
        "plt.ylabel(\"Intensidad luminosa [u.A]\")\n",
        "plt.title(\"Expectro de emisión del filamento de tungsteno\")"
      ],
      "execution_count": null,
      "outputs": [
        {
          "output_type": "execute_result",
          "data": {
            "text/plain": [
              "Text(0.5, 1.0, 'Expectro de emisión del filamento de tungsteno')"
            ]
          },
          "metadata": {},
          "execution_count": 18
        },
        {
          "output_type": "display_data",
          "data": {
            "image/png": "[encoded data removed]",
            "text/plain": [
              "<Figure size 432x288 with 1 Axes>"
            ]
          },
          "metadata": {
            "needs_background": "light"
          }
        }
      ]
    },
    {
      "cell_type": "markdown",
      "metadata": {
        "id": "oBzlJiDzgzSj"
      },
      "source": [
        "calculos\n",
        "k = 1.38*10^(-23)\n",
        "h = 6.626*10^(-34)\n",
        "hc = 1.98644586*10^(-25)\n",
        "nm -> m *10^(-9)\n",
        "\n"
      ]
    },
    {
      "cell_type": "code",
      "metadata": {
        "colab": {
          "base_uri": "https://localhost:8080/"
        },
        "id": "1UOyrrL5gz14",
        "outputId": "b4ce27a9-dda6-4f67-d3b3-ed7216ec9936"
      },
      "source": [
        "tlist = {450,580,960}\n",
        "for x in tlist:\n",
        "  t = 1.98644586*10**(-25)/(1.38*10**(-23)*x*10**(-9))\n",
        "  print(x, t)\n"
      ],
      "execution_count": null,
      "outputs": [
        {
          "output_type": "stream",
          "name": "stdout",
          "text": [
            "960 14994.307518115946\n",
            "450 31987.856038647344\n",
            "580 24818.16416791605\n"
          ]
        }
      ]
    },
    {
      "cell_type": "code",
      "metadata": {
        "colab": {
          "base_uri": "https://localhost:8080/"
        },
        "id": "RAzt79jBje4I",
        "outputId": "1ec658a2-17c1-4590-9917-d28bde24d8c3"
      },
      "source": [
        "#960\n",
        "(16000-14994)/14994*100"
      ],
      "execution_count": null,
      "outputs": [
        {
          "output_type": "execute_result",
          "data": {
            "text/plain": [
              "6.709350406829398"
            ]
          },
          "metadata": {},
          "execution_count": 5
        }
      ]
    },
    {
      "cell_type": "code",
      "metadata": {
        "colab": {
          "base_uri": "https://localhost:8080/"
        },
        "id": "MB0KLWjQnaDN",
        "outputId": "98d7af11-4e40-42ed-fda2-36e060e830df"
      },
      "source": [
        "#580\n",
        "(24818-24109)/24818*100"
      ],
      "execution_count": null,
      "outputs": [
        {
          "output_type": "execute_result",
          "data": {
            "text/plain": [
              "2.856797485695866"
            ]
          },
          "metadata": {},
          "execution_count": 8
        }
      ]
    },
    {
      "cell_type": "code",
      "metadata": {
        "colab": {
          "base_uri": "https://localhost:8080/"
        },
        "id": "qN-xnFlblye5",
        "outputId": "960aad36-fb9a-4163-b7ab-92c55cd55981"
      },
      "source": [
        "#450\n",
        "(33519-31987)/31987 *100"
      ],
      "execution_count": null,
      "outputs": [
        {
          "output_type": "execute_result",
          "data": {
            "text/plain": [
              "4.78944571232063"
            ]
          },
          "metadata": {},
          "execution_count": 6
        }
      ]
    },
    {
      "cell_type": "code",
      "metadata": {
        "colab": {
          "base_uri": "https://localhost:8080/"
        },
        "id": "tMaFgTIl9IOm",
        "outputId": "5128d8da-91da-4c82-d0c2-e4eae6df83c9"
      },
      "source": [
        "tlist = {16005,24109,33824}\n",
        "for x in tlist:\n",
        "  t = 1.98644586*10**(-25)/(1.38*10**(-23)*x*10**(-9))\n",
        "  print(x, t)"
      ],
      "execution_count": null,
      "outputs": [
        {
          "output_type": "stream",
          "name": "stdout",
          "text": [
            "33824 425.57164195220275\n",
            "24109 597.0606502713221\n",
            "16005 899.3773956508156\n"
          ]
        }
      ]
    },
    {
      "cell_type": "code",
      "metadata": {
        "colab": {
          "base_uri": "https://localhost:8080/"
        },
        "id": "BVk4BI__AKy5",
        "outputId": "fc561f2e-296b-4460-aedc-1463da188f2c"
      },
      "source": [
        "(960-899)/960*100"
      ],
      "execution_count": null,
      "outputs": [
        {
          "output_type": "execute_result",
          "data": {
            "text/plain": [
              "6.354166666666666"
            ]
          },
          "metadata": {},
          "execution_count": 5
        }
      ]
    },
    {
      "cell_type": "code",
      "metadata": {
        "colab": {
          "base_uri": "https://localhost:8080/"
        },
        "id": "obTzHuhOAOt3",
        "outputId": "b16de095-dbf5-40ec-8ead-f2d5895946c3"
      },
      "source": [
        "(450-425)/425*100"
      ],
      "execution_count": null,
      "outputs": [
        {
          "output_type": "execute_result",
          "data": {
            "text/plain": [
              "5.88235294117647"
            ]
          },
          "metadata": {},
          "execution_count": 6
        }
      ]
    },
    {
      "cell_type": "code",
      "metadata": {
        "colab": {
          "base_uri": "https://localhost:8080/"
        },
        "id": "VrgKRPjRAUWQ",
        "outputId": "d4734a31-039d-4d61-a9db-8af5d7b7854e"
      },
      "source": [
        "(597-580)/580*100"
      ],
      "execution_count": null,
      "outputs": [
        {
          "output_type": "execute_result",
          "data": {
            "text/plain": [
              "2.9310344827586206"
            ]
          },
          "metadata": {},
          "execution_count": 9
        }
      ]
    },
    {
      "cell_type": "code",
      "metadata": {
        "id": "We_Y8BrMAphH"
      },
      "source": [
        ""
      ],
      "execution_count": null,
      "outputs": []
    }
  ]
}