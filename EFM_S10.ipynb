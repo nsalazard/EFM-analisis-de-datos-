{
  "nbformat": 4,
  "nbformat_minor": 0,
  "metadata": {
    "colab": {
      "name": "EFM_S10.ipynb",
      "provenance": [],
      "authorship_tag": "ABX9TyMfpey1U9L/LA8cAnJ2/x42",
      "include_colab_link": true
    },
    "kernelspec": {
      "name": "python3",
      "display_name": "Python 3"
    },
    "language_info": {
      "name": "python"
    }
  },
  "cells": [
    {
      "cell_type": "markdown",
      "metadata": {
        "id": "view-in-github",
        "colab_type": "text"
      },
      "source": [
        "<a href=\"https://colab.research.google.com/github/nsalazard/EFM-analisis-de-datos-/blob/main/EFM_S10.ipynb\" target=\"_parent\"><img src=\"https://colab.research.google.com/assets/colab-badge.svg\" alt=\"Open In Colab\"/></a>"
      ]
    },
    {
      "cell_type": "code",
      "execution_count": null,
      "metadata": {
        "colab": {
          "base_uri": "https://localhost:8080/",
          "height": 305
        },
        "id": "g7E7uJEtylus",
        "outputId": "64088bf4-336e-46d8-934f-56c232fbfff0"
      },
      "outputs": [
        {
          "output_type": "stream",
          "name": "stderr",
          "text": [
            "/usr/local/lib/python3.7/dist-packages/statsmodels/tools/_testing.py:19: FutureWarning: pandas.util.testing is deprecated. Use the functions in the public API at pandas.testing instead.\n",
            "  import pandas.util.testing as tm\n"
          ]
        },
        {
          "output_type": "execute_result",
          "data": {
            "text/html": [
              "\n",
              "  <div id=\"df-8198e064-3307-418c-84ee-e77758de0cbb\">\n",
              "    <div class=\"colab-df-container\">\n",
              "      <div>\n",
              "<style scoped>\n",
              "    .dataframe tbody tr th:only-of-type {\n",
              "        vertical-align: middle;\n",
              "    }\n",
              "\n",
              "    .dataframe tbody tr th {\n",
              "        vertical-align: top;\n",
              "    }\n",
              "\n",
              "    .dataframe thead th {\n",
              "        text-align: right;\n",
              "    }\n",
              "</style>\n",
              "<table border=\"1\" class=\"dataframe\">\n",
              "  <thead>\n",
              "    <tr style=\"text-align: right;\">\n",
              "      <th>2</th>\n",
              "      <th>Espesor1</th>\n",
              "      <th>PL_R</th>\n",
              "      <th>S_PL_R</th>\n",
              "      <th>PL_C</th>\n",
              "      <th>ln(PL_C)</th>\n",
              "      <th>S_PL_C</th>\n",
              "      <th>PL_B</th>\n",
              "      <th>ln(PL_B)</th>\n",
              "      <th>S_PL_B</th>\n",
              "      <th>Espesor2</th>\n",
              "      <th>C_R</th>\n",
              "      <th>S_C_R</th>\n",
              "      <th>C_C</th>\n",
              "      <th>ln(C_C)</th>\n",
              "      <th>S_C_C</th>\n",
              "      <th>C_B</th>\n",
              "      <th>ln(C_B)</th>\n",
              "      <th>S_C_B</th>\n",
              "      <th>Espesor3</th>\n",
              "      <th>A_R</th>\n",
              "      <th>S_A_R</th>\n",
              "      <th>A_C</th>\n",
              "      <th>ln(A_C)</th>\n",
              "      <th>S_A_C</th>\n",
              "      <th>A_B</th>\n",
              "      <th>ln(A_B)</th>\n",
              "      <th>S_A_B</th>\n",
              "    </tr>\n",
              "  </thead>\n",
              "  <tbody>\n",
              "    <tr>\n",
              "      <th>3</th>\n",
              "      <td>0.07</td>\n",
              "      <td>0.00</td>\n",
              "      <td>0.00</td>\n",
              "      <td>246.40</td>\n",
              "      <td>5.51</td>\n",
              "      <td>12.40</td>\n",
              "      <td>362.80</td>\n",
              "      <td>5.893851718</td>\n",
              "      <td>9.26</td>\n",
              "      <td>0.07</td>\n",
              "      <td>0.40</td>\n",
              "      <td>0.55</td>\n",
              "      <td>412.00</td>\n",
              "      <td>6.02</td>\n",
              "      <td>17.59</td>\n",
              "      <td>438.20</td>\n",
              "      <td>6.08</td>\n",
              "      <td>26.98</td>\n",
              "      <td>0.05</td>\n",
              "      <td>0.20</td>\n",
              "      <td>0.45</td>\n",
              "      <td>367.80</td>\n",
              "      <td>5.91</td>\n",
              "      <td>21.16</td>\n",
              "      <td>415.86</td>\n",
              "      <td>6.03</td>\n",
              "      <td>12.98</td>\n",
              "    </tr>\n",
              "    <tr>\n",
              "      <th>4</th>\n",
              "      <td>0.16</td>\n",
              "      <td>0.00</td>\n",
              "      <td>0.00</td>\n",
              "      <td>143.20</td>\n",
              "      <td>4.96</td>\n",
              "      <td>8.67</td>\n",
              "      <td>343.60</td>\n",
              "      <td>5.83947819</td>\n",
              "      <td>11.24</td>\n",
              "      <td>0.12</td>\n",
              "      <td>0.00</td>\n",
              "      <td>0.00</td>\n",
              "      <td>389.40</td>\n",
              "      <td>5.96</td>\n",
              "      <td>11.89</td>\n",
              "      <td>414.80</td>\n",
              "      <td>6.03</td>\n",
              "      <td>10.59</td>\n",
              "      <td>0.15</td>\n",
              "      <td>0.00</td>\n",
              "      <td>0.00</td>\n",
              "      <td>253.60</td>\n",
              "      <td>5.54</td>\n",
              "      <td>12.10</td>\n",
              "      <td>390.57</td>\n",
              "      <td>5.97</td>\n",
              "      <td>18.38</td>\n",
              "    </tr>\n",
              "    <tr>\n",
              "      <th>5</th>\n",
              "      <td>0.29</td>\n",
              "      <td>0.00</td>\n",
              "      <td>0.00</td>\n",
              "      <td>60.40</td>\n",
              "      <td>4.10</td>\n",
              "      <td>7.83</td>\n",
              "      <td>306.40</td>\n",
              "      <td>5.724891438</td>\n",
              "      <td>5.73</td>\n",
              "      <td>0.29</td>\n",
              "      <td>0.00</td>\n",
              "      <td>0.00</td>\n",
              "      <td>337.00</td>\n",
              "      <td>5.82</td>\n",
              "      <td>12.14</td>\n",
              "      <td>396.40</td>\n",
              "      <td>5.98</td>\n",
              "      <td>22.78</td>\n",
              "      <td>0.26</td>\n",
              "      <td>0.00</td>\n",
              "      <td>0.00</td>\n",
              "      <td>168.20</td>\n",
              "      <td>5.13</td>\n",
              "      <td>17.71</td>\n",
              "      <td>386.00</td>\n",
              "      <td>5.96</td>\n",
              "      <td>20.10</td>\n",
              "    </tr>\n",
              "    <tr>\n",
              "      <th>6</th>\n",
              "      <td>0.41</td>\n",
              "      <td>0.00</td>\n",
              "      <td>0.00</td>\n",
              "      <td>27.20</td>\n",
              "      <td>3.30</td>\n",
              "      <td>3.96</td>\n",
              "      <td>280.20</td>\n",
              "      <td>5.635503634</td>\n",
              "      <td>21.86</td>\n",
              "      <td>0.50</td>\n",
              "      <td>0.00</td>\n",
              "      <td>0.00</td>\n",
              "      <td>274.00</td>\n",
              "      <td>5.61</td>\n",
              "      <td>11.81</td>\n",
              "      <td>414.20</td>\n",
              "      <td>6.03</td>\n",
              "      <td>15.12</td>\n",
              "      <td>0.41</td>\n",
              "      <td>0.00</td>\n",
              "      <td>0.00</td>\n",
              "      <td>112.40</td>\n",
              "      <td>4.72</td>\n",
              "      <td>4.16</td>\n",
              "      <td>371.00</td>\n",
              "      <td>5.92</td>\n",
              "      <td>15.56</td>\n",
              "    </tr>\n",
              "    <tr>\n",
              "      <th>7</th>\n",
              "      <td>0.8</td>\n",
              "      <td>0.00</td>\n",
              "      <td>0.00</td>\n",
              "      <td>2.00</td>\n",
              "      <td>0.69</td>\n",
              "      <td>1.22</td>\n",
              "      <td>214.80</td>\n",
              "      <td>5.369707363</td>\n",
              "      <td>25.53</td>\n",
              "      <td>0.93</td>\n",
              "      <td>0.00</td>\n",
              "      <td>0.00</td>\n",
              "      <td>208.80</td>\n",
              "      <td>5.34</td>\n",
              "      <td>14.79</td>\n",
              "      <td>398.60</td>\n",
              "      <td>5.99</td>\n",
              "      <td>28.38</td>\n",
              "      <td>0.76</td>\n",
              "      <td>0.00</td>\n",
              "      <td>0.00</td>\n",
              "      <td>32.80</td>\n",
              "      <td>3.49</td>\n",
              "      <td>6.65</td>\n",
              "      <td>333.20</td>\n",
              "      <td>5.81</td>\n",
              "      <td>11.17</td>\n",
              "    </tr>\n",
              "  </tbody>\n",
              "</table>\n",
              "</div>\n",
              "      <button class=\"colab-df-convert\" onclick=\"convertToInteractive('df-8198e064-3307-418c-84ee-e77758de0cbb')\"\n",
              "              title=\"Convert this dataframe to an interactive table.\"\n",
              "              style=\"display:none;\">\n",
              "        \n",
              "  <svg xmlns=\"http://www.w3.org/2000/svg\" height=\"24px\"viewBox=\"0 0 24 24\"\n",
              "       width=\"24px\">\n",
              "    <path d=\"M0 0h24v24H0V0z\" fill=\"none\"/>\n",
              "    <path d=\"M18.56 5.44l.94 2.06.94-2.06 2.06-.94-2.06-.94-.94-2.06-.94 2.06-2.06.94zm-11 1L8.5 8.5l.94-2.06 2.06-.94-2.06-.94L8.5 2.5l-.94 2.06-2.06.94zm10 10l.94 2.06.94-2.06 2.06-.94-2.06-.94-.94-2.06-.94 2.06-2.06.94z\"/><path d=\"M17.41 7.96l-1.37-1.37c-.4-.4-.92-.59-1.43-.59-.52 0-1.04.2-1.43.59L10.3 9.45l-7.72 7.72c-.78.78-.78 2.05 0 2.83L4 21.41c.39.39.9.59 1.41.59.51 0 1.02-.2 1.41-.59l7.78-7.78 2.81-2.81c.8-.78.8-2.07 0-2.86zM5.41 20L4 18.59l7.72-7.72 1.47 1.35L5.41 20z\"/>\n",
              "  </svg>\n",
              "      </button>\n",
              "      \n",
              "  <style>\n",
              "    .colab-df-container {\n",
              "      display:flex;\n",
              "      flex-wrap:wrap;\n",
              "      gap: 12px;\n",
              "    }\n",
              "\n",
              "    .colab-df-convert {\n",
              "      background-color: #E8F0FE;\n",
              "      border: none;\n",
              "      border-radius: 50%;\n",
              "      cursor: pointer;\n",
              "      display: none;\n",
              "      fill: #1967D2;\n",
              "      height: 32px;\n",
              "      padding: 0 0 0 0;\n",
              "      width: 32px;\n",
              "    }\n",
              "\n",
              "    .colab-df-convert:hover {\n",
              "      background-color: #E2EBFA;\n",
              "      box-shadow: 0px 1px 2px rgba(60, 64, 67, 0.3), 0px 1px 3px 1px rgba(60, 64, 67, 0.15);\n",
              "      fill: #174EA6;\n",
              "    }\n",
              "\n",
              "    [theme=dark] .colab-df-convert {\n",
              "      background-color: #3B4455;\n",
              "      fill: #D2E3FC;\n",
              "    }\n",
              "\n",
              "    [theme=dark] .colab-df-convert:hover {\n",
              "      background-color: #434B5C;\n",
              "      box-shadow: 0px 1px 3px 1px rgba(0, 0, 0, 0.15);\n",
              "      filter: drop-shadow(0px 1px 2px rgba(0, 0, 0, 0.3));\n",
              "      fill: #FFFFFF;\n",
              "    }\n",
              "  </style>\n",
              "\n",
              "      <script>\n",
              "        const buttonEl =\n",
              "          document.querySelector('#df-8198e064-3307-418c-84ee-e77758de0cbb button.colab-df-convert');\n",
              "        buttonEl.style.display =\n",
              "          google.colab.kernel.accessAllowed ? 'block' : 'none';\n",
              "\n",
              "        async function convertToInteractive(key) {\n",
              "          const element = document.querySelector('#df-8198e064-3307-418c-84ee-e77758de0cbb');\n",
              "          const dataTable =\n",
              "            await google.colab.kernel.invokeFunction('convertToInteractive',\n",
              "                                                     [key], {});\n",
              "          if (!dataTable) return;\n",
              "\n",
              "          const docLinkHtml = 'Like what you see? Visit the ' +\n",
              "            '<a target=\"_blank\" href=https://colab.research.google.com/notebooks/data_table.ipynb>data table notebook</a>'\n",
              "            + ' to learn more about interactive tables.';\n",
              "          element.innerHTML = '';\n",
              "          dataTable['output_type'] = 'display_data';\n",
              "          await google.colab.output.renderOutput(dataTable, element);\n",
              "          const docLink = document.createElement('div');\n",
              "          docLink.innerHTML = docLinkHtml;\n",
              "          element.appendChild(docLink);\n",
              "        }\n",
              "      </script>\n",
              "    </div>\n",
              "  </div>\n",
              "  "
            ],
            "text/plain": [
              "2 Espesor1  PL_R S_PL_R    PL_C ln(PL_C)  ... ln(A_C)  S_A_C     A_B ln(A_B)  S_A_B\n",
              "3     0.07  0.00   0.00  246.40     5.51  ...    5.91  21.16  415.86    6.03  12.98\n",
              "4     0.16  0.00   0.00  143.20     4.96  ...    5.54  12.10  390.57    5.97  18.38\n",
              "5     0.29  0.00   0.00   60.40     4.10  ...    5.13  17.71  386.00    5.96  20.10\n",
              "6     0.41  0.00   0.00   27.20     3.30  ...    4.72   4.16  371.00    5.92  15.56\n",
              "7      0.8  0.00   0.00    2.00     0.69  ...    3.49   6.65  333.20    5.81  11.17\n",
              "\n",
              "[5 rows x 27 columns]"
            ]
          },
          "metadata": {},
          "execution_count": 2
        }
      ],
      "source": [
        "import gspread\n",
        "import pandas as pd\n",
        "import statsmodels.api as sm\n",
        "import statistics\n",
        "import matplotlib.pyplot as plt \n",
        "import numpy as np\n",
        "from scipy.optimize import curve_fit\n",
        "from scipy.stats import norm, linregress\n",
        "import matplotlib.colors as mcolors\n",
        "from google.colab import auth\n",
        "from oauth2client.client import GoogleCredentials\n",
        "\n",
        "auth.authenticate_user()\n",
        "gc = gspread.authorize(GoogleCredentials.get_application_default())\n",
        "\n",
        "wb = gc.open_by_url('https://docs.google.com/spreadsheets/d/1vJTUFO1kEzMFwv7rnC6RtzccE8hJz-6IrXFt2rXl5kU/edit#gid=0')\n",
        "worksheet=wb.worksheet('N1')\n",
        "rows = worksheet.get_all_values()\n",
        "d1=pd.DataFrame(rows)\n",
        "titles=pd.DataFrame(rows)\n",
        "d1.columns = d1.iloc[2]\n",
        "titles=titles.iloc[2:3]\n",
        "d1 = d1.iloc[3:]\n",
        "d1.head()"
      ]
    },
    {
      "cell_type": "code",
      "source": [
        "nombres=d1.columns[0:27]\n",
        "for name in nombres:\n",
        "  d1[name]= pd.to_numeric(d1[name])"
      ],
      "metadata": {
        "id": "3qVEmQ-M78OQ"
      },
      "execution_count": null,
      "outputs": []
    },
    {
      "cell_type": "code",
      "source": [
        "d1.columns[0:27]"
      ],
      "metadata": {
        "colab": {
          "base_uri": "https://localhost:8080/"
        },
        "id": "_FSu6Eu18fUe",
        "outputId": "6871927f-c34e-4266-b0c9-0d24ccf427e9"
      },
      "execution_count": null,
      "outputs": [
        {
          "output_type": "execute_result",
          "data": {
            "text/plain": [
              "Index(['Espesor1', 'PL_R', 'S_PL_R', 'PL_C', 'ln(PL_C)', 'S_PL_C', 'PL_B',\n",
              "       'ln(PL_B)', 'S_PL_B', 'Espesor2', 'C_R', 'S_C_R', 'C_C', 'ln(C_C)',\n",
              "       'S_C_C', 'C_B', 'ln(C_B)', 'S_C_B', 'Espesor3', 'A_R', 'S_A_R', 'A_C',\n",
              "       'ln(A_C)', 'S_A_C', 'A_B', 'ln(A_B)', 'S_A_B'],\n",
              "      dtype='object', name=2)"
            ]
          },
          "metadata": {},
          "execution_count": 4
        }
      ]
    },
    {
      "cell_type": "code",
      "metadata": {
        "id": "jOQzpoIpcGxM"
      },
      "source": [
        "def f1(x,a,b):\n",
        "  return a*x+b\n",
        "\n",
        "def f2(x,a,b):\n",
        "  return a*np.exp(-b*x)  "
      ],
      "execution_count": null,
      "outputs": []
    },
    {
      "cell_type": "code",
      "metadata": {
        "id": "eW3wgsK3cK_i"
      },
      "source": [
        "def ERROR(x,y,m,b):\n",
        "  N = np.size(x)\n",
        "  Sx,Sy,Sxx,Syy,e,em,eb,z = 0,0,0,0,0,0,0,0\n",
        "  for i in range (N-1):\n",
        "    Sx += x[i]\n",
        "    Sy += y[i] \n",
        "    Sxx += x[i]*x[i]\n",
        "    Syy += y[i]*y[i]\n",
        "    z += (b+ m*x[i] - y[i])**2\n",
        "  e = np.sqrt(z/((N*Sxx -Sx*Sx)*(N-2)))\n",
        "  em = np.sqrt(N)*e\n",
        "  eb = np.sqrt(Sxx)*e\n",
        "\n",
        "  return (em, eb)"
      ],
      "execution_count": null,
      "outputs": []
    },
    {
      "cell_type": "code",
      "source": [
        "name = [\"Radio\", \"Carbono\", \"Bario\"]\n",
        "Farben= [\"darkviolet\",\"crimson\",\"dodgerblue\",\"indigo\",\"darkturquoise\", \"forestgreen\", \"darkturquoise\",\"darkviolet\", \"dodgerblue\"]"
      ],
      "metadata": {
        "id": "Vb86eeOQ_ow9"
      },
      "execution_count": null,
      "outputs": []
    },
    {
      "cell_type": "markdown",
      "source": [
        "#PLOMO\n"
      ],
      "metadata": {
        "id": "h27a9egz-ChE"
      }
    },
    {
      "cell_type": "code",
      "source": [
        "row = [1,4,7] \n",
        "pl1 = [12,8,12]\n",
        "material = [\"Radio\", \"Carbono\", \"Bario\"]\n",
        "j = 0\n",
        "ax = plt.subplots ()\n",
        "for ii in row: \n",
        "  valx1=d1.loc[0:pl1[j],d1.columns[0]]\n",
        "  valy1=d1.loc[0:pl1[j],d1.columns[ii]]\n",
        "  valz =d1.loc[0:pl1[j],d1.columns[ii+1]]\n",
        "  x1=valx1.values \n",
        "  y1=valy1.values\n",
        "  z =valz.values\n",
        "  plt.scatter(x1,y1,color=\"black\",s=12)\n",
        "  error = np.log(z/2)\n",
        "  #plt.errorbar(x1, y1, yerr = 0.5,ecolor=Farben[j])\n",
        "  gradient1, intercept1, r_value1, p_value1, std_err1 = linregress(x1,y1)\n",
        "  #plt.plot(x1, f1(x1, gradient1, intercept1),color=Farben[j], label='%s : Ln($N$)= %2.2f*$ε$ + %2.2f, $R^2$= %3.3f' % (material[j],gradient1, intercept1, r_value1))\n",
        "  plt.errorbar(x1, f1(x1, gradient1, intercept1), yerr = 0.5,color=Farben[j],ecolor=Farben[j], label='%s : Ln($N$)= %2.2f*$ε$ + %2.2f, $R^2$= %3.3f' % (material[j],gradient1, intercept1, r_value1))\n",
        "  j += 1\n",
        "plt.minorticks_on()\n",
        "plt.ylim([-5, 7])\n",
        "plt.grid(b=True,which=\"both\")\n",
        "plt.legend(loc=\"lower left\") # lower left\n",
        "plt.ylabel(\"Ln(N)\")\n",
        "plt.xlabel(\"Espesor [cm]\")\n",
        "plt.title(\"Plomo Ln ($I_D$) vs $V_D$ [V]\")\n"
      ],
      "metadata": {
        "colab": {
          "base_uri": "https://localhost:8080/",
          "height": 369
        },
        "id": "nfSlGuYciukC",
        "outputId": "dab07306-6025-4f1e-80bc-4bda98820463"
      },
      "execution_count": null,
      "outputs": [
        {
          "output_type": "stream",
          "name": "stderr",
          "text": [
            "/usr/local/lib/python3.7/dist-packages/ipykernel_launcher.py:14: RuntimeWarning: divide by zero encountered in log\n",
            "  \n"
          ]
        },
        {
          "output_type": "execute_result",
          "data": {
            "text/plain": [
              "Text(0.5, 1.0, 'Plomo Ln ($I_D$) vs $V_D$ [V]')"
            ]
          },
          "metadata": {},
          "execution_count": 8
        },
        {
          "output_type": "display_data",
          "data": {
            "image/png": "[encoded data removed]",
            "text/plain": [
              "<Figure size 432x288 with 1 Axes>"
            ]
          },
          "metadata": {
            "needs_background": "light"
          }
        }
      ]
    },
    {
      "cell_type": "code",
      "source": [
        "print(error)"
      ],
      "metadata": {
        "colab": {
          "base_uri": "https://localhost:8080/"
        },
        "id": "33KIGqprIstS",
        "outputId": "53a48ef4-19ea-4642-cc58-a155b65bc09c"
      },
      "execution_count": null,
      "outputs": [
        {
          "output_type": "stream",
          "name": "stdout",
          "text": [
            "[2.22570405 2.41947884 1.74571553 3.08465848 3.23985423 2.74598804\n",
            " 2.32630162 1.91692261 1.74396881 1.09861229]\n"
          ]
        }
      ]
    },
    {
      "cell_type": "code",
      "source": [
        "row = [1,3,6] \n",
        "pl1 = [12,8,12]\n",
        "j = 0\n",
        "for ii in row: \n",
        "  valx1=d1.loc[0:pl1[j],d1.columns[0]]\n",
        "  valy1=d1.loc[0:pl1[j],d1.columns[ii]]\n",
        "  x1=valx1.values \n",
        "  y1=valy1.values\n",
        "  plt.scatter(x1,y1,color=\"black\",s=12)\n",
        "  plt.minorticks_on()\n",
        "  plt.grid(b=True,which=\"both\")\n",
        "\n",
        "  #gradient1, intercept1, r_value1, p_value1, std_err1 = linregress(x1,y1)\n",
        "  #plt.plot(x1, f1(x1, gradient1, intercept1), 'b-',color=Farben[j],label='Ln($N$)= %2.2f*$ε$ + %2.2f, $R^2$= %3.3f' % (gradient1, intercept1, r_value1))\n",
        "  popt, pcov = curve_fit(f2, x1, y1)\n",
        "  plt.plot(x1, f2(x1, *popt), color=Farben[j], label='fit: a=%5.5f, b=%5.5f' % tuple(popt))\n",
        "  j += 1\n",
        "\n",
        "#plt.ylim([-4, 6.2])\n",
        "plt.grid(b=True,which=\"both\")\n",
        "#plt.yscale(\"log\")\n",
        "plt.legend(loc=\"lower left\") # lower left\n",
        "plt.ylabel(\"Intensidad, N\")\n",
        "plt.xlabel(\"Espesor [cm]\")\n",
        "plt.title(\"Plomo Ln ($I_D$) vs $V_D$ [V]\")"
      ],
      "metadata": {
        "colab": {
          "base_uri": "https://localhost:8080/",
          "height": 314
        },
        "id": "giBCHQH72PfM",
        "outputId": "d42a9c2a-4462-4f60-c9ac-a4e419ce57f5"
      },
      "execution_count": null,
      "outputs": [
        {
          "output_type": "execute_result",
          "data": {
            "text/plain": [
              "Text(0.5, 1.0, 'Plomo Ln ($I_D$) vs $V_D$ [V]')"
            ]
          },
          "metadata": {},
          "execution_count": 10
        },
        {
          "output_type": "display_data",
          "data": {
            "image/png": "[encoded data removed]",
            "text/plain": [
              "<Figure size 432x288 with 1 Axes>"
            ]
          },
          "metadata": {
            "needs_background": "light"
          }
        }
      ]
    },
    {
      "cell_type": "markdown",
      "source": [
        "#Concreto\n"
      ],
      "metadata": {
        "id": "PJ7R6ZV11_iO"
      }
    },
    {
      "cell_type": "code",
      "source": [
        "row = [10,13,16] \n",
        "pl1 = [12,12,12]\n",
        "j = 0\n",
        "valx=d1.loc[0:pl1[0],d1.columns[0]]\n",
        "x=valx.values \n",
        "for ii in row: \n",
        "  valx1=d1.loc[0:pl1[j],d1.columns[9]]\n",
        "  valy1=d1.loc[0:pl1[j],d1.columns[ii]]\n",
        "  x1=valx1.values \n",
        "  y1=valy1.values\n",
        "  plt.scatter(x1,y1,color=\"black\",s=12)\n",
        "  plt.minorticks_on()\n",
        "  plt.grid(b=True,which=\"both\")\n",
        "  \n",
        "  valz =d1.loc[0:pl1[j],d1.columns[ii+1]]\n",
        "  z =valz.values\n",
        "  error = np.log(z/2)/3\n",
        "  gradient1, intercept1, r_value1, p_value1, std_err1 = linregress(x1,y1)\n",
        "  #plt.plot(x1, f1(x1, gradient1, intercept1), 'b-',color=Farben[j],label='Ln($I_D$)= %2.2f*$V_D$ + %2.2f, $R^2$= %3.3f' % (gradient1, intercept1, r_value1))\n",
        "  plt.errorbar(x1, f1(x1, gradient1, intercept1), yerr = error,color=Farben[j],ecolor=Farben[j], label='%s : Ln($N$)= %2.2f*$ε$ + %2.2f, $R^2$= %3.3f' % (material[j],gradient1, intercept1, r_value1))\n",
        "  j += 1\n",
        "\n",
        "#plt.ylim([-4, 6.2])\n",
        "plt.grid(b=True,which=\"both\")\n",
        "plt.legend(loc=\"lower left\") # lower left\n",
        "plt.ylabel(\"Ln(N)\")\n",
        "plt.xlabel(\"Espesor [cm]\")\n",
        "plt.title(\"Concreto Ln ($I_D$) vs $V_D$ [V]\")"
      ],
      "metadata": {
        "colab": {
          "base_uri": "https://localhost:8080/",
          "height": 352
        },
        "id": "scFwBHgYHn9g",
        "outputId": "c2979731-1d80-4c27-f03b-c7eca8ec29ba"
      },
      "execution_count": null,
      "outputs": [
        {
          "output_type": "stream",
          "name": "stderr",
          "text": [
            "/usr/local/lib/python3.7/dist-packages/ipykernel_launcher.py:17: RuntimeWarning: divide by zero encountered in log\n"
          ]
        },
        {
          "output_type": "execute_result",
          "data": {
            "text/plain": [
              "Text(0.5, 1.0, 'Concreto Ln ($I_D$) vs $V_D$ [V]')"
            ]
          },
          "metadata": {},
          "execution_count": 38
        },
        {
          "output_type": "display_data",
          "data": {
            "image/png": "[encoded data removed]",
            "text/plain": [
              "<Figure size 432x288 with 1 Axes>"
            ]
          },
          "metadata": {
            "needs_background": "light"
          }
        }
      ]
    },
    {
      "cell_type": "markdown",
      "source": [
        "#ACERO\n"
      ],
      "metadata": {
        "id": "hZCHG4aA2FBt"
      }
    },
    {
      "cell_type": "code",
      "source": [
        "row = [19,22,25] \n",
        "pl1 = [12,10,12]\n",
        "j = 0\n",
        "for ii in row: \n",
        "  valx1=d1.loc[0:pl1[j],d1.columns[18]]\n",
        "  valy1=d1.loc[0:pl1[j],d1.columns[ii]]\n",
        "  x1=valx1.values \n",
        "  y1=valy1.values\n",
        "  plt.scatter(x1,y1,color=\"black\",s=12)\n",
        "  plt.minorticks_on()\n",
        "  plt.grid(b=True,which=\"both\")\n",
        "\n",
        "  valz =d1.loc[0:pl1[j],d1.columns[ii+1]]\n",
        "  z =valz.values\n",
        "  error = np.log(z/2)/2\n",
        "  gradient1, intercept1, r_value1, p_value1, std_err1 = linregress(x1,y1)\n",
        "  #plt.plot(x1, f1(x1, gradient1, intercept1), 'b-',color=Farben[j],label='Ln($I_D$)= %2.2f*$V_D$ + %2.2f, $R^2$= %3.3f' % (gradient1, intercept1, r_value1))\n",
        "  plt.errorbar(x1, f1(x1, gradient1, intercept1), yerr = error,color=Farben[j],ecolor=Farben[j], label='%s : Ln($N$)= %2.2f*$ε$ + %2.2f, $R^2$= %3.3f' % (material[j],gradient1, intercept1, r_value1))\n",
        "  j += 1\n",
        "\n",
        "#plt.ylim([-4, 6.2])\n",
        "plt.grid(b=True,which=\"both\")\n",
        "plt.legend(loc=\"lower left\") # lower left\n",
        "plt.ylabel(\"Ln(N)\")\n",
        "plt.xlabel(\"Espesor [cm]\")\n",
        "plt.title(\"Plomo Ln ($I_D$) vs $V_D$ [V]\")"
      ],
      "metadata": {
        "colab": {
          "base_uri": "https://localhost:8080/",
          "height": 369
        },
        "id": "_esjZ8FCNk0A",
        "outputId": "c380321a-3430-454b-ebac-e06ff51a4b7d"
      },
      "execution_count": null,
      "outputs": [
        {
          "output_type": "stream",
          "name": "stderr",
          "text": [
            "/usr/local/lib/python3.7/dist-packages/ipykernel_launcher.py:15: RuntimeWarning: divide by zero encountered in log\n",
            "  from ipykernel import kernelapp as app\n"
          ]
        },
        {
          "output_type": "execute_result",
          "data": {
            "text/plain": [
              "Text(0.5, 1.0, 'Plomo Ln ($I_D$) vs $V_D$ [V]')"
            ]
          },
          "metadata": {},
          "execution_count": 41
        },
        {
          "output_type": "display_data",
          "data": {
            "image/png": "[encoded data removed]",
            "text/plain": [
              "<Figure size 432x288 with 1 Axes>"
            ]
          },
          "metadata": {
            "needs_background": "light"
          }
        }
      ]
    },
    {
      "cell_type": "markdown",
      "source": [
        "#N2"
      ],
      "metadata": {
        "id": "87Js3uKv8fIl"
      }
    },
    {
      "cell_type": "code",
      "source": [
        "import gspread\n",
        "import pandas as pd\n",
        "import statsmodels.api as sm\n",
        "import statistics\n",
        "import matplotlib.pyplot as plt \n",
        "import numpy as np\n",
        "from scipy.optimize import curve_fit\n",
        "from scipy.stats import norm, linregress\n",
        "import matplotlib.colors as mcolors\n",
        "from google.colab import auth\n",
        "from oauth2client.client import GoogleCredentials\n",
        "\n",
        "auth.authenticate_user()\n",
        "gc = gspread.authorize(GoogleCredentials.get_application_default())\n",
        "\n",
        "wb = gc.open_by_url('https://docs.google.com/spreadsheets/d/1vJTUFO1kEzMFwv7rnC6RtzccE8hJz-6IrXFt2rXl5kU/edit#gid=0')\n",
        "worksheet=wb.worksheet('N2')\n",
        "rows = worksheet.get_all_values()\n",
        "df=pd.DataFrame(rows)\n",
        "titles=pd.DataFrame(rows)\n",
        "df.columns = df.iloc[2]\n",
        "titles=titles.iloc[2:3]\n",
        "df = df.iloc[3:]\n",
        "df.head()"
      ],
      "metadata": {
        "colab": {
          "base_uri": "https://localhost:8080/",
          "height": 270
        },
        "id": "HBbWRWpGQWvL",
        "outputId": "9ad0b4f8-692a-4dca-eb3a-185e747515df"
      },
      "execution_count": null,
      "outputs": [
        {
          "output_type": "execute_result",
          "data": {
            "text/html": [
              "\n",
              "  <div id=\"df-88d35bfd-1977-4ebf-81ac-a994f61750f7\">\n",
              "    <div class=\"colab-df-container\">\n",
              "      <div>\n",
              "<style scoped>\n",
              "    .dataframe tbody tr th:only-of-type {\n",
              "        vertical-align: middle;\n",
              "    }\n",
              "\n",
              "    .dataframe tbody tr th {\n",
              "        vertical-align: top;\n",
              "    }\n",
              "\n",
              "    .dataframe thead th {\n",
              "        text-align: right;\n",
              "    }\n",
              "</style>\n",
              "<table border=\"1\" class=\"dataframe\">\n",
              "  <thead>\n",
              "    <tr style=\"text-align: right;\">\n",
              "      <th>2</th>\n",
              "      <th>Espesor1</th>\n",
              "      <th>PL_R</th>\n",
              "      <th>S_PL_R</th>\n",
              "      <th>PL_C</th>\n",
              "      <th>ln(PL_C)</th>\n",
              "      <th>S_PL_C</th>\n",
              "      <th>PL_B</th>\n",
              "      <th>ln1</th>\n",
              "      <th>S_PL_B</th>\n",
              "      <th>Espesor2</th>\n",
              "      <th>C_R</th>\n",
              "      <th>ln(C_R)</th>\n",
              "      <th>S_C_R</th>\n",
              "      <th>C_C</th>\n",
              "      <th>ln(C_C)</th>\n",
              "      <th>S_C_C</th>\n",
              "      <th>C_B</th>\n",
              "      <th>ln2</th>\n",
              "      <th>S_C_B</th>\n",
              "    </tr>\n",
              "  </thead>\n",
              "  <tbody>\n",
              "    <tr>\n",
              "      <th>3</th>\n",
              "      <td>0.05</td>\n",
              "      <td>1.2</td>\n",
              "      <td>0.4472135955</td>\n",
              "      <td>261.8</td>\n",
              "      <td>5.567580853</td>\n",
              "      <td>12.45793</td>\n",
              "      <td>380</td>\n",
              "      <td>5.940171253</td>\n",
              "      <td>8.21584</td>\n",
              "      <td>0.07</td>\n",
              "      <td>490</td>\n",
              "      <td>6.194405391</td>\n",
              "      <td>11.16542282</td>\n",
              "      <td>497.5</td>\n",
              "      <td>6.209595557</td>\n",
              "      <td>32.60368</td>\n",
              "      <td>485.5</td>\n",
              "      <td>6.185179288</td>\n",
              "      <td>19.36492</td>\n",
              "    </tr>\n",
              "    <tr>\n",
              "      <th>4</th>\n",
              "      <td>0.11</td>\n",
              "      <td>0</td>\n",
              "      <td>0</td>\n",
              "      <td>240</td>\n",
              "      <td>5.480638923</td>\n",
              "      <td>5.38516</td>\n",
              "      <td>361</td>\n",
              "      <td>5.888877958</td>\n",
              "      <td>19.73575</td>\n",
              "      <td>0.12</td>\n",
              "      <td>502</td>\n",
              "      <td>6.21860012</td>\n",
              "      <td>0.8164965809</td>\n",
              "      <td>497.2</td>\n",
              "      <td>6.20899236</td>\n",
              "      <td>12.76388</td>\n",
              "      <td>488.5</td>\n",
              "      <td>6.191339471</td>\n",
              "      <td>22.72297</td>\n",
              "    </tr>\n",
              "    <tr>\n",
              "      <th>5</th>\n",
              "      <td>0.2</td>\n",
              "      <td>0</td>\n",
              "      <td>0</td>\n",
              "      <td>217.6</td>\n",
              "      <td>5.382658515</td>\n",
              "      <td>13.10725</td>\n",
              "      <td>371.6</td>\n",
              "      <td>5.917818007</td>\n",
              "      <td>8.98888</td>\n",
              "      <td>0.29</td>\n",
              "      <td>491</td>\n",
              "      <td>6.196444128</td>\n",
              "      <td>4.082482905</td>\n",
              "      <td>488.75</td>\n",
              "      <td>6.191851111</td>\n",
              "      <td>21.50000</td>\n",
              "      <td>488.25</td>\n",
              "      <td>6.19082757</td>\n",
              "      <td>5.37742</td>\n",
              "    </tr>\n",
              "    <tr>\n",
              "      <th>6</th>\n",
              "      <td>0.59</td>\n",
              "      <td>0</td>\n",
              "      <td>0</td>\n",
              "      <td>125.8</td>\n",
              "      <td>4.834693344</td>\n",
              "      <td>8.04363</td>\n",
              "      <td>376.2</td>\n",
              "      <td>5.930120917</td>\n",
              "      <td>26.89238</td>\n",
              "      <td>0.50</td>\n",
              "      <td>508.25</td>\n",
              "      <td>6.230973453</td>\n",
              "      <td>10.24288371</td>\n",
              "      <td>490.75</td>\n",
              "      <td>6.195934833</td>\n",
              "      <td>25.83763</td>\n",
              "      <td>482.5</td>\n",
              "      <td>6.178980921</td>\n",
              "      <td>19.26136</td>\n",
              "    </tr>\n",
              "    <tr>\n",
              "      <th>7</th>\n",
              "      <td>0.8</td>\n",
              "      <td>0</td>\n",
              "      <td>0</td>\n",
              "      <td>85</td>\n",
              "      <td>4.442651256</td>\n",
              "      <td>7.48331</td>\n",
              "      <td>352.4</td>\n",
              "      <td>5.864766894</td>\n",
              "      <td>17.51571</td>\n",
              "      <td>0.93</td>\n",
              "      <td>494.25</td>\n",
              "      <td>6.203041462</td>\n",
              "      <td>20.13909962</td>\n",
              "      <td>480.5</td>\n",
              "      <td>6.174827228</td>\n",
              "      <td>20.50203</td>\n",
              "      <td>483</td>\n",
              "      <td>6.180016654</td>\n",
              "      <td>11.40175</td>\n",
              "    </tr>\n",
              "  </tbody>\n",
              "</table>\n",
              "</div>\n",
              "      <button class=\"colab-df-convert\" onclick=\"convertToInteractive('df-88d35bfd-1977-4ebf-81ac-a994f61750f7')\"\n",
              "              title=\"Convert this dataframe to an interactive table.\"\n",
              "              style=\"display:none;\">\n",
              "        \n",
              "  <svg xmlns=\"http://www.w3.org/2000/svg\" height=\"24px\"viewBox=\"0 0 24 24\"\n",
              "       width=\"24px\">\n",
              "    <path d=\"M0 0h24v24H0V0z\" fill=\"none\"/>\n",
              "    <path d=\"M18.56 5.44l.94 2.06.94-2.06 2.06-.94-2.06-.94-.94-2.06-.94 2.06-2.06.94zm-11 1L8.5 8.5l.94-2.06 2.06-.94-2.06-.94L8.5 2.5l-.94 2.06-2.06.94zm10 10l.94 2.06.94-2.06 2.06-.94-2.06-.94-.94-2.06-.94 2.06-2.06.94z\"/><path d=\"M17.41 7.96l-1.37-1.37c-.4-.4-.92-.59-1.43-.59-.52 0-1.04.2-1.43.59L10.3 9.45l-7.72 7.72c-.78.78-.78 2.05 0 2.83L4 21.41c.39.39.9.59 1.41.59.51 0 1.02-.2 1.41-.59l7.78-7.78 2.81-2.81c.8-.78.8-2.07 0-2.86zM5.41 20L4 18.59l7.72-7.72 1.47 1.35L5.41 20z\"/>\n",
              "  </svg>\n",
              "      </button>\n",
              "      \n",
              "  <style>\n",
              "    .colab-df-container {\n",
              "      display:flex;\n",
              "      flex-wrap:wrap;\n",
              "      gap: 12px;\n",
              "    }\n",
              "\n",
              "    .colab-df-convert {\n",
              "      background-color: #E8F0FE;\n",
              "      border: none;\n",
              "      border-radius: 50%;\n",
              "      cursor: pointer;\n",
              "      display: none;\n",
              "      fill: #1967D2;\n",
              "      height: 32px;\n",
              "      padding: 0 0 0 0;\n",
              "      width: 32px;\n",
              "    }\n",
              "\n",
              "    .colab-df-convert:hover {\n",
              "      background-color: #E2EBFA;\n",
              "      box-shadow: 0px 1px 2px rgba(60, 64, 67, 0.3), 0px 1px 3px 1px rgba(60, 64, 67, 0.15);\n",
              "      fill: #174EA6;\n",
              "    }\n",
              "\n",
              "    [theme=dark] .colab-df-convert {\n",
              "      background-color: #3B4455;\n",
              "      fill: #D2E3FC;\n",
              "    }\n",
              "\n",
              "    [theme=dark] .colab-df-convert:hover {\n",
              "      background-color: #434B5C;\n",
              "      box-shadow: 0px 1px 3px 1px rgba(0, 0, 0, 0.15);\n",
              "      filter: drop-shadow(0px 1px 2px rgba(0, 0, 0, 0.3));\n",
              "      fill: #FFFFFF;\n",
              "    }\n",
              "  </style>\n",
              "\n",
              "      <script>\n",
              "        const buttonEl =\n",
              "          document.querySelector('#df-88d35bfd-1977-4ebf-81ac-a994f61750f7 button.colab-df-convert');\n",
              "        buttonEl.style.display =\n",
              "          google.colab.kernel.accessAllowed ? 'block' : 'none';\n",
              "\n",
              "        async function convertToInteractive(key) {\n",
              "          const element = document.querySelector('#df-88d35bfd-1977-4ebf-81ac-a994f61750f7');\n",
              "          const dataTable =\n",
              "            await google.colab.kernel.invokeFunction('convertToInteractive',\n",
              "                                                     [key], {});\n",
              "          if (!dataTable) return;\n",
              "\n",
              "          const docLinkHtml = 'Like what you see? Visit the ' +\n",
              "            '<a target=\"_blank\" href=https://colab.research.google.com/notebooks/data_table.ipynb>data table notebook</a>'\n",
              "            + ' to learn more about interactive tables.';\n",
              "          element.innerHTML = '';\n",
              "          dataTable['output_type'] = 'display_data';\n",
              "          await google.colab.output.renderOutput(dataTable, element);\n",
              "          const docLink = document.createElement('div');\n",
              "          docLink.innerHTML = docLinkHtml;\n",
              "          element.appendChild(docLink);\n",
              "        }\n",
              "      </script>\n",
              "    </div>\n",
              "  </div>\n",
              "  "
            ],
            "text/plain": [
              "2 Espesor1 PL_R        S_PL_R   PL_C  ...     S_C_C     C_B          ln2     S_C_B\n",
              "3     0.05  1.2  0.4472135955  261.8  ...  32.60368   485.5  6.185179288  19.36492\n",
              "4     0.11    0             0    240  ...  12.76388   488.5  6.191339471  22.72297\n",
              "5      0.2    0             0  217.6  ...  21.50000  488.25   6.19082757   5.37742\n",
              "6     0.59    0             0  125.8  ...  25.83763   482.5  6.178980921  19.26136\n",
              "7      0.8    0             0     85  ...  20.50203     483  6.180016654  11.40175\n",
              "\n",
              "[5 rows x 19 columns]"
            ]
          },
          "metadata": {},
          "execution_count": 44
        }
      ]
    },
    {
      "cell_type": "code",
      "source": [
        "nombres=df.columns[0:18]\n",
        "for name in nombres:\n",
        "  df[name]= pd.to_numeric(df[name])"
      ],
      "metadata": {
        "id": "iFFf6tRF80os"
      },
      "execution_count": null,
      "outputs": []
    },
    {
      "cell_type": "markdown",
      "source": [
        "#ALUMINIO"
      ],
      "metadata": {
        "id": "19ogW_gI8g_L"
      }
    },
    {
      "cell_type": "code",
      "source": [
        "\n",
        "row = [1,4,7] \n",
        "pl1 = [12,12,12]\n",
        "j = 0\n",
        "valx=df.loc[0:pl1[0],df.columns[0]]\n",
        "x=valx.values \n",
        "for ii in row: \n",
        "  valx1=df.loc[0:pl1[j],df.columns[0]]\n",
        "  valy1=df.loc[0:pl1[j],df.columns[ii]]\n",
        "  x1=valx1.values \n",
        "  y1=valy1.values\n",
        "  plt.scatter(x1,y1,color=\"black\",s=12)\n",
        "  plt.minorticks_on()\n",
        "  plt.grid(b=True,which=\"both\")\n",
        "\n",
        "  valz =d1.loc[0:pl1[j],d1.columns[ii+1]]\n",
        "  z =valz.values\n",
        "  error = np.log(z/2)\n",
        "  gradient1, intercept1, r_value1, p_value1, std_err1 = linregress(x1,y1)\n",
        "  #plt.plot(x1, f1(x1, gradient1, intercept1), 'b-',color=Farben[j],label='Ln($I_D$)= %2.2f*$V_D$ + %2.2f, $R^2$= %3.3f' % (gradient1, intercept1, r_value1))\n",
        "  plt.errorbar(x1, f1(x1, gradient1, intercept1), yerr = y1*0.1,color=Farben[j],ecolor=Farben[j], label='%s : Ln($N$)= %2.2f*$ε$ + %2.2f, $R^2$= %3.3f' % (material[j],gradient1, intercept1, r_value1))\n",
        "  j += 1\n",
        "\n",
        "#plt.ylim([-4, 6.2])\n",
        "plt.grid(b=True,which=\"both\")\n",
        "plt.legend(loc=\"lower left\") # lower left\n",
        "plt.ylabel(\"Ln(N)\")\n",
        "plt.xlabel(\"Espesor [cm]\")\n",
        "plt.title(\"Aluminio Ln ($I_D$) vs $V_D$ [V]\")"
      ],
      "metadata": {
        "id": "vRdocqHEQorm",
        "colab": {
          "base_uri": "https://localhost:8080/",
          "height": 352
        },
        "outputId": "6b3a6bfa-3019-4e03-de50-95a988288fab"
      },
      "execution_count": null,
      "outputs": [
        {
          "output_type": "stream",
          "name": "stderr",
          "text": [
            "/usr/local/lib/python3.7/dist-packages/ipykernel_launcher.py:18: RuntimeWarning: divide by zero encountered in log\n"
          ]
        },
        {
          "output_type": "execute_result",
          "data": {
            "text/plain": [
              "Text(0.5, 1.0, 'Aluminio Ln ($I_D$) vs $V_D$ [V]')"
            ]
          },
          "metadata": {},
          "execution_count": 52
        },
        {
          "output_type": "display_data",
          "data": {
            "image/png": "[encoded data removed]",
            "text/plain": [
              "<Figure size 432x288 with 1 Axes>"
            ]
          },
          "metadata": {
            "needs_background": "light"
          }
        }
      ]
    },
    {
      "cell_type": "markdown",
      "source": [
        "#Aire"
      ],
      "metadata": {
        "id": "dwufVTqwQGgW"
      }
    },
    {
      "cell_type": "code",
      "source": [
        "#Aire sin ln\n",
        "row = [10,13,16] \n",
        "pl1 = [12,12,12]\n",
        "j = 0\n",
        "valx=df.loc[0:pl1[0],df.columns[0]]\n",
        "x=valx.values \n",
        "for ii in row: \n",
        "  valx1=df.loc[0:pl1[j],df.columns[9]]\n",
        "  valy1=df.loc[0:pl1[j],df.columns[ii]]\n",
        "  x1=valx1.values \n",
        "  y1=valy1.values\n",
        "  j += 1\n",
        "  plt.scatter(x1,y1,color=\"black\",s=12)\n",
        "  plt.minorticks_on()\n",
        "  plt.grid(b=True,which=\"both\")\n",
        "\n",
        "  gradient1, intercept1, r_value1, p_value1, std_err1 = linregress(x1,y1)\n",
        "  plt.plot(x1, f1(x1, gradient1, intercept1), 'b-',color=Farben[j],label='$I_D$= %2.2f*$V_D$ + %2.2f, $R^2$= %3.3f' % (gradient1, intercept1, r_value1))\n",
        "\n",
        "#plt.ylim([-4, 6.2])\n",
        "plt.grid(b=True,which=\"both\")\n",
        "plt.legend(loc=\"lower left\") # lower left\n",
        "plt.ylabel(\"Intensidad,N\")\n",
        "plt.xlabel(\"Espesor, [cm]\")\n",
        "plt.title(\"Aire ($I_D$) vs $ε$ [V]\")"
      ],
      "metadata": {
        "colab": {
          "base_uri": "https://localhost:8080/",
          "height": 314
        },
        "id": "6iC7PrTA8jtL",
        "outputId": "ede8134d-6430-44ba-9333-478ee6cbf2fa"
      },
      "execution_count": null,
      "outputs": [
        {
          "output_type": "execute_result",
          "data": {
            "text/plain": [
              "Text(0.5, 1.0, 'Aire ($I_D$) vs $ε$ [V]')"
            ]
          },
          "metadata": {},
          "execution_count": 52
        },
        {
          "output_type": "display_data",
          "data": {
            "image/png": "[encoded data removed]",
            "text/plain": [
              "<Figure size 432x288 with 1 Axes>"
            ]
          },
          "metadata": {
            "needs_background": "light"
          }
        }
      ]
    },
    {
      "cell_type": "code",
      "source": [
        "#Aire CON ln\n",
        "row = [11,14,17] \n",
        "pl1 = [12,12,12]\n",
        "j = 0\n",
        "valx=df.loc[0:pl1[0],df.columns[0]]\n",
        "x=valx.values \n",
        "for ii in row: \n",
        "  valx1=df.loc[0:pl1[j],df.columns[9]]\n",
        "  valy1=df.loc[0:pl1[j],df.columns[ii]]\n",
        "  x1=valx1.values \n",
        "  y1=valy1.values\n",
        "  j += 1\n",
        "  plt.scatter(x1,y1,color=\"black\",s=12)\n",
        "  plt.minorticks_on()\n",
        "  plt.grid(b=True,which=\"both\")\n",
        "\n",
        "  gradient1, intercept1, r_value1, p_value1, std_err1 = linregress(x1,y1)\n",
        "  plt.plot(x1, f1(x1, gradient1, intercept1), 'b-',color=Farben[j],label='$Ln(N)$= %2.2f*$V_D$ + %2.2f, $R^2$= %3.3f' % (gradient1, intercept1, r_value1))\n",
        "\n",
        "#plt.ylim([-4, 6.2])\n",
        "plt.grid(b=True,which=\"both\")\n",
        "plt.legend(loc=\"lower left\") # lower left\n",
        "plt.ylabel(\"Intensidad,N\")\n",
        "plt.xlabel(\"Espesor, [cm]\")\n",
        "plt.title(\"Aire Ln($N$) vs $ε$\")"
      ],
      "metadata": {
        "colab": {
          "base_uri": "https://localhost:8080/",
          "height": 314
        },
        "outputId": "7d35b415-3146-4faf-ecc4-fd3915fc7d1f",
        "id": "AqWxRMzuCN6W"
      },
      "execution_count": null,
      "outputs": [
        {
          "output_type": "execute_result",
          "data": {
            "text/plain": [
              "Text(0.5, 1.0, 'Aire Ln($N$) vs $ε$')"
            ]
          },
          "metadata": {},
          "execution_count": 53
        },
        {
          "output_type": "display_data",
          "data": {
            "image/png": "[encoded data removed]",
            "text/plain": [
              "<Figure size 432x288 with 1 Axes>"
            ]
          },
          "metadata": {
            "needs_background": "light"
          }
        }
      ]
    },
    {
      "cell_type": "code",
      "source": [
        ""
      ],
      "metadata": {
        "id": "88_jRAeICI9a"
      },
      "execution_count": null,
      "outputs": []
    }
  ]
}