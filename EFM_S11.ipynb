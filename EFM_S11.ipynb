{
  "nbformat": 4,
  "nbformat_minor": 0,
  "metadata": {
    "colab": {
      "name": "EFM_S11.ipynb",
      "provenance": [],
      "authorship_tag": "ABX9TyNALZtoOeGN9kbZR5UHirZw",
      "include_colab_link": true
    },
    "kernelspec": {
      "name": "python3",
      "display_name": "Python 3"
    },
    "language_info": {
      "name": "python"
    }
  },
  "cells": [
    {
      "cell_type": "markdown",
      "metadata": {
        "id": "view-in-github",
        "colab_type": "text"
      },
      "source": [
        "<a href=\"https://colab.research.google.com/github/nsalazard/EFM-analisis-de-datos-/blob/main/EFM_S11.ipynb\" target=\"_parent\"><img src=\"https://colab.research.google.com/assets/colab-badge.svg\" alt=\"Open In Colab\"/></a>"
      ]
    },
    {
      "cell_type": "code",
      "execution_count": null,
      "metadata": {
        "colab": {
          "base_uri": "https://localhost:8080/",
          "height": 261
        },
        "id": "nGEquzBDMmVr",
        "outputId": "82d0521a-5e07-4460-8b39-8cb980bd4d3c"
      },
      "outputs": [
        {
          "output_type": "stream",
          "name": "stderr",
          "text": [
            "/usr/local/lib/python3.7/dist-packages/statsmodels/tools/_testing.py:19: FutureWarning: pandas.util.testing is deprecated. Use the functions in the public API at pandas.testing instead.\n",
            "  import pandas.util.testing as tm\n"
          ]
        },
        {
          "output_type": "execute_result",
          "data": {
            "text/html": [
              "\n",
              "  <div id=\"df-8a8f0e87-82fe-4234-8bf2-9ec27c34408b\">\n",
              "    <div class=\"colab-df-container\">\n",
              "      <div>\n",
              "<style scoped>\n",
              "    .dataframe tbody tr th:only-of-type {\n",
              "        vertical-align: middle;\n",
              "    }\n",
              "\n",
              "    .dataframe tbody tr th {\n",
              "        vertical-align: top;\n",
              "    }\n",
              "\n",
              "    .dataframe thead th {\n",
              "        text-align: right;\n",
              "    }\n",
              "</style>\n",
              "<table border=\"1\" class=\"dataframe\">\n",
              "  <thead>\n",
              "    <tr style=\"text-align: right;\">\n",
              "      <th></th>\n",
              "      <th>Promedio</th>\n",
              "      <th>Varianza</th>\n",
              "      <th>Desviación est.</th>\n",
              "      <th>V</th>\n",
              "      <th>I</th>\n",
              "    </tr>\n",
              "  </thead>\n",
              "  <tbody>\n",
              "    <tr>\n",
              "      <th>1</th>\n",
              "      <td>3463.28</td>\n",
              "      <td>3292.425859</td>\n",
              "      <td>57</td>\n",
              "      <td>600</td>\n",
              "      <td>0</td>\n",
              "    </tr>\n",
              "    <tr>\n",
              "      <th>2</th>\n",
              "      <td>6939.94</td>\n",
              "      <td>6667.410505</td>\n",
              "      <td>82</td>\n",
              "      <td>610</td>\n",
              "      <td>0</td>\n",
              "    </tr>\n",
              "    <tr>\n",
              "      <th>3</th>\n",
              "      <td>13798.77</td>\n",
              "      <td>13359.67384</td>\n",
              "      <td>116</td>\n",
              "      <td>620</td>\n",
              "      <td>0</td>\n",
              "    </tr>\n",
              "    <tr>\n",
              "      <th>4</th>\n",
              "      <td>20738.64</td>\n",
              "      <td>21042.75798</td>\n",
              "      <td>145</td>\n",
              "      <td>630</td>\n",
              "      <td>0</td>\n",
              "    </tr>\n",
              "    <tr>\n",
              "      <th>5</th>\n",
              "      <td>27696.93</td>\n",
              "      <td>27857.72232</td>\n",
              "      <td>167</td>\n",
              "      <td>640</td>\n",
              "      <td>25</td>\n",
              "    </tr>\n",
              "  </tbody>\n",
              "</table>\n",
              "</div>\n",
              "      <button class=\"colab-df-convert\" onclick=\"convertToInteractive('df-8a8f0e87-82fe-4234-8bf2-9ec27c34408b')\"\n",
              "              title=\"Convert this dataframe to an interactive table.\"\n",
              "              style=\"display:none;\">\n",
              "        \n",
              "  <svg xmlns=\"http://www.w3.org/2000/svg\" height=\"24px\"viewBox=\"0 0 24 24\"\n",
              "       width=\"24px\">\n",
              "    <path d=\"M0 0h24v24H0V0z\" fill=\"none\"/>\n",
              "    <path d=\"M18.56 5.44l.94 2.06.94-2.06 2.06-.94-2.06-.94-.94-2.06-.94 2.06-2.06.94zm-11 1L8.5 8.5l.94-2.06 2.06-.94-2.06-.94L8.5 2.5l-.94 2.06-2.06.94zm10 10l.94 2.06.94-2.06 2.06-.94-2.06-.94-.94-2.06-.94 2.06-2.06.94z\"/><path d=\"M17.41 7.96l-1.37-1.37c-.4-.4-.92-.59-1.43-.59-.52 0-1.04.2-1.43.59L10.3 9.45l-7.72 7.72c-.78.78-.78 2.05 0 2.83L4 21.41c.39.39.9.59 1.41.59.51 0 1.02-.2 1.41-.59l7.78-7.78 2.81-2.81c.8-.78.8-2.07 0-2.86zM5.41 20L4 18.59l7.72-7.72 1.47 1.35L5.41 20z\"/>\n",
              "  </svg>\n",
              "      </button>\n",
              "      \n",
              "  <style>\n",
              "    .colab-df-container {\n",
              "      display:flex;\n",
              "      flex-wrap:wrap;\n",
              "      gap: 12px;\n",
              "    }\n",
              "\n",
              "    .colab-df-convert {\n",
              "      background-color: #E8F0FE;\n",
              "      border: none;\n",
              "      border-radius: 50%;\n",
              "      cursor: pointer;\n",
              "      display: none;\n",
              "      fill: #1967D2;\n",
              "      height: 32px;\n",
              "      padding: 0 0 0 0;\n",
              "      width: 32px;\n",
              "    }\n",
              "\n",
              "    .colab-df-convert:hover {\n",
              "      background-color: #E2EBFA;\n",
              "      box-shadow: 0px 1px 2px rgba(60, 64, 67, 0.3), 0px 1px 3px 1px rgba(60, 64, 67, 0.15);\n",
              "      fill: #174EA6;\n",
              "    }\n",
              "\n",
              "    [theme=dark] .colab-df-convert {\n",
              "      background-color: #3B4455;\n",
              "      fill: #D2E3FC;\n",
              "    }\n",
              "\n",
              "    [theme=dark] .colab-df-convert:hover {\n",
              "      background-color: #434B5C;\n",
              "      box-shadow: 0px 1px 3px 1px rgba(0, 0, 0, 0.15);\n",
              "      filter: drop-shadow(0px 1px 2px rgba(0, 0, 0, 0.3));\n",
              "      fill: #FFFFFF;\n",
              "    }\n",
              "  </style>\n",
              "\n",
              "      <script>\n",
              "        const buttonEl =\n",
              "          document.querySelector('#df-8a8f0e87-82fe-4234-8bf2-9ec27c34408b button.colab-df-convert');\n",
              "        buttonEl.style.display =\n",
              "          google.colab.kernel.accessAllowed ? 'block' : 'none';\n",
              "\n",
              "        async function convertToInteractive(key) {\n",
              "          const element = document.querySelector('#df-8a8f0e87-82fe-4234-8bf2-9ec27c34408b');\n",
              "          const dataTable =\n",
              "            await google.colab.kernel.invokeFunction('convertToInteractive',\n",
              "                                                     [key], {});\n",
              "          if (!dataTable) return;\n",
              "\n",
              "          const docLinkHtml = 'Like what you see? Visit the ' +\n",
              "            '<a target=\"_blank\" href=https://colab.research.google.com/notebooks/data_table.ipynb>data table notebook</a>'\n",
              "            + ' to learn more about interactive tables.';\n",
              "          element.innerHTML = '';\n",
              "          dataTable['output_type'] = 'display_data';\n",
              "          await google.colab.output.renderOutput(dataTable, element);\n",
              "          const docLink = document.createElement('div');\n",
              "          docLink.innerHTML = docLinkHtml;\n",
              "          element.appendChild(docLink);\n",
              "        }\n",
              "      </script>\n",
              "    </div>\n",
              "  </div>\n",
              "  "
            ],
            "text/plain": [
              "0  Promedio     Varianza Desviación est.    V   I\n",
              "1   3463.28  3292.425859              57  600   0\n",
              "2   6939.94  6667.410505              82  610   0\n",
              "3  13798.77  13359.67384             116  620   0\n",
              "4  20738.64  21042.75798             145  630   0\n",
              "5  27696.93  27857.72232             167  640  25"
            ]
          },
          "metadata": {},
          "execution_count": 1
        }
      ],
      "source": [
        "import gspread\n",
        "import pandas as pd\n",
        "import statsmodels.api as sm\n",
        "import statistics\n",
        "import matplotlib.pyplot as plt \n",
        "import numpy as np\n",
        "from scipy.optimize import curve_fit\n",
        "from scipy.stats import norm, linregress\n",
        "import matplotlib.colors as mcolors\n",
        "from google.colab import auth\n",
        "from oauth2client.client import GoogleCredentials\n",
        "\n",
        "auth.authenticate_user()\n",
        "gc = gspread.authorize(GoogleCredentials.get_application_default())\n",
        "\n",
        "wb = gc.open_by_url('https://docs.google.com/spreadsheets/d/1w7-TZBuRniHM9y-tcAoGzlJ6FjRwg7z21yUO30_mwbg/edit#gid=1456024931')\n",
        "worksheet=wb.worksheet('Calculos')\n",
        "rows = worksheet.get_all_values()\n",
        "d1=pd.DataFrame(rows)\n",
        "titles=pd.DataFrame(rows)\n",
        "d1.columns = d1.iloc[0]\n",
        "titles=titles.iloc[0:1]\n",
        "d1 = d1.iloc[1:]\n",
        "d1.head()"
      ]
    },
    {
      "cell_type": "code",
      "source": [
        "nombres=d1.columns[0:5]\n",
        "for name in nombres:\n",
        "  d1[name]= pd.to_numeric(d1[name])"
      ],
      "metadata": {
        "id": "Sz15NQeogWXj"
      },
      "execution_count": null,
      "outputs": []
    },
    {
      "cell_type": "code",
      "source": [
        "def f1(x,a,b):\n",
        "  return a*x+b\n",
        "\n",
        "def fo(x,a):\n",
        "  return a*x \n",
        "\n",
        "def f2(x,a,b):\n",
        "  return a*np.exp(-b*x)  \n",
        "\n",
        "def r_sq(f,x,y,a):\n",
        "  residuals = y- f(x,a)\n",
        "  ss_res = np.sum(residuals**2)\n",
        "  ss_tot = np.sum((y-np.mean(y))**2)\n",
        "  r_squared = 1 - (ss_res / ss_tot)  \n",
        "  return r_squared\n",
        "\n",
        "def ERROR(x,y,m,b):\n",
        "  N = np.size(x)\n",
        "  Sx,Sy,Sxx,Syy,e,em,eb,z = 0,0,0,0,0,0,0,0\n",
        "  for i in range (N-1):\n",
        "    Sx += x[i]\n",
        "    Sy += y[i] \n",
        "    Sxx += x[i]*x[i]\n",
        "    Syy += y[i]*y[i]\n",
        "    z += (b+ m*x[i] - y[i])**2\n",
        "  e = np.sqrt(z/((N*Sxx -Sx*Sx)*(N-2)))\n",
        "  em = np.sqrt(N)*e\n",
        "  eb = np.sqrt(Sxx)*e\n",
        "\n",
        "  return (em, eb) "
      ],
      "metadata": {
        "id": "EvUmW86HgXmi"
      },
      "execution_count": null,
      "outputs": []
    },
    {
      "cell_type": "code",
      "source": [
        "valx1=d1.loc[0:6,d1.columns[0]]\n",
        "valy1=d1.loc[0:6,d1.columns[1]]\n",
        "\n",
        "x1=valx1.values \n",
        "y1=valy1.values\n",
        "\n",
        "plt.scatter(x1,y1,color=\"black\",s=12, zorder = 2, label = \"Datos experimentales\")\n",
        "#gradient1, intercept1, r_value1, p_value1, std_err1 = linregress(x1,y1)\n",
        "#plt.plot(x1, f1(x1, gradient1, intercept1),color=\"darkviolet\", label=' $σ^2$= %2.2f*$<n>$+ %2.2f, $R^2$= %3.3f' % (gradient1, intercept1, r_value1))\n",
        "plt.plot(x1, fo(x1, 1.0),color=\"dodgerblue\", label='Curva Teorica: $σ^2$=$<n>$  ')\n",
        "popt, pcov = curve_fit(fo,x1,y1)\n",
        "r_squ = r_sq(fo,x1,y1,1.01)\n",
        "\n",
        "plt.plot(x1, fo(x1,*popt),color=\"darkviolet\", label='$σ^2$= %2.2f*$<n>$, $R^2$=0.998' %tuple(popt)) #, $R^2$= %3.3f'\n",
        "print(r_squ)\n",
        "print(popt)\n",
        "Em, Eb = ERROR(x1,y1, 1.01,0)\n",
        "print(Em, Eb)\n",
        "\n",
        "plt.minorticks_on()\n",
        "plt.grid(b=True,which=\"both\")\n",
        "plt.legend(loc=\"lower right\") \n",
        "plt.ylabel(\"Varianza $σ^2$\")\n",
        "plt.xlabel(\"Promedio, $<n>$\")\n",
        "plt.title(\"Varianza en función del promedio\")"
      ],
      "metadata": {
        "colab": {
          "base_uri": "https://localhost:8080/",
          "height": 367
        },
        "id": "HmdVQmHxr5AC",
        "outputId": "23c78dc5-8811-4bdd-9cab-a2522336657f"
      },
      "execution_count": null,
      "outputs": [
        {
          "output_type": "stream",
          "name": "stdout",
          "text": [
            "0.9989791533978069\n",
            "[1.01231249]\n",
            "0.015050576473443636 233.79107803130836\n"
          ]
        },
        {
          "output_type": "execute_result",
          "data": {
            "text/plain": [
              "Text(0.5, 1.0, 'Varianza en función del promedio')"
            ]
          },
          "metadata": {},
          "execution_count": 4
        },
        {
          "output_type": "display_data",
          "data": {
            "image/png": "[encoded data removed]",
            "text/plain": [
              "<Figure size 432x288 with 1 Axes>"
            ]
          },
          "metadata": {
            "needs_background": "light"
          }
        }
      ]
    },
    {
      "cell_type": "code",
      "source": [
        "valx1=d1.loc[0:61,d1.columns[3]]\n",
        "valy1=d1.loc[0:61,d1.columns[4]]\n",
        "\n",
        "x1=valx1.values \n",
        "y1=valy1.values\n",
        "\n",
        "plt.scatter(x1,y1,color=\"black\",s=12, zorder = 2)\n",
        "gradient1, intercept1, r_value1, p_value1, std_err1 = linregress(x1,y1)\n",
        "#plt.plot(x1, f1(x1, gradient1, intercept1),color=\"darkviolet\", label=' Ln($N$)= %2.2f*$ε$ + %2.2f, $R^2$= %3.3f' % (gradient1, intercept1, r_value1))\n",
        "\n",
        "\n",
        "\n",
        "plt.minorticks_on()\n",
        "plt.grid(b=True,which=\"both\")\n",
        "plt.legend(loc=\"lower right\") \n",
        "plt.ylabel(\"Número de partículas detectadas, n\")\n",
        "plt.xlabel(\"Voltaje, V\")\n",
        "plt.title(\"Curva característica del contador Geiger Muller\")\n"
      ],
      "metadata": {
        "colab": {
          "base_uri": "https://localhost:8080/",
          "height": 330
        },
        "id": "nfSlGuYciukC",
        "outputId": "b380b1c2-edc4-4b0c-8176-f00d75a58ee3"
      },
      "execution_count": null,
      "outputs": [
        {
          "output_type": "stream",
          "name": "stderr",
          "text": [
            "No handles with labels found to put in legend.\n"
          ]
        },
        {
          "output_type": "execute_result",
          "data": {
            "text/plain": [
              "Text(0.5, 1.0, 'Curva característica del contador Geiger Muller')"
            ]
          },
          "metadata": {},
          "execution_count": 5
        },
        {
          "output_type": "display_data",
          "data": {
            "image/png": "[encoded data removed]",
            "text/plain": [
              "<Figure size 432x288 with 1 Axes>"
            ]
          },
          "metadata": {
            "needs_background": "light"
          }
        }
      ]
    },
    {
      "cell_type": "code",
      "source": [
        "valx1=d1.loc[10:43,d1.columns[3]]\n",
        "valy1=d1.loc[10:43,d1.columns[4]]\n",
        "\n",
        "x1=valx1.values \n",
        "y1=valy1.values\n",
        "\n",
        "plt.scatter(x1,y1,color=\"black\",s=12, zorder = 2)\n",
        "gradient1, intercept1, r_value1, p_value1, std_err1 = linregress(x1,y1)\n",
        "plt.plot(x1, f1(x1, gradient1, intercept1),color=\"darkviolet\", label=' n= %2.3f*$V$ + %2.2f, $R^2$= %3.3f' % (gradient1, intercept1, r_value1))\n",
        "\n",
        "\n",
        "Em, Eb = ERROR(x1,y1, gradient1,intercept1)\n",
        "print(Em, Eb)\n",
        "\n",
        "plt.minorticks_on()\n",
        "plt.ylim([0, 100])\n",
        "plt.grid(b=True,which=\"both\")\n",
        "plt.legend(loc=\"lower right\") \n",
        "plt.ylabel(\"Número de partículas detectadas, n\")\n",
        "plt.xlabel(\"Voltaje, V\")\n",
        "plt.title(\"Region Plateau\")\n",
        "plt.suptitle(\"Curva característica Geiger Muller\", fontsize=12,  fontname=\"Times New Roman Bold\")\n"
      ],
      "metadata": {
        "colab": {
          "base_uri": "https://localhost:8080/",
          "height": 343
        },
        "outputId": "8d1d0004-5ffd-4e9d-a1cb-4e8404c03bfe",
        "id": "JnU5Mlbtqxwf"
      },
      "execution_count": null,
      "outputs": [
        {
          "output_type": "stream",
          "name": "stdout",
          "text": [
            "0.004218345323520252 3.5545661032640403\n"
          ]
        },
        {
          "output_type": "execute_result",
          "data": {
            "text/plain": [
              "Text(0.5, 0.98, 'Curva característica Geiger Muller')"
            ]
          },
          "metadata": {},
          "execution_count": 7
        },
        {
          "output_type": "display_data",
          "data": {
            "image/png": "[encoded data removed]",
            "text/plain": [
              "<Figure size 432x288 with 1 Axes>"
            ]
          },
          "metadata": {
            "needs_background": "light"
          }
        }
      ]
    },
    {
      "cell_type": "code",
      "source": [
        ""
      ],
      "metadata": {
        "id": "iwGldVXKrTJC"
      },
      "execution_count": null,
      "outputs": []
    }
  ]
}