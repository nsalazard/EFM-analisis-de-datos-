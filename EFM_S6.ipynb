{
  "nbformat": 4,
  "nbformat_minor": 0,
  "metadata": {
    "colab": {
      "name": "EFM_S6.ipynb",
      "provenance": [],
      "authorship_tag": "ABX9TyMCibI/HdVNAqoCFFd7AG0K",
      "include_colab_link": true
    },
    "kernelspec": {
      "name": "python3",
      "display_name": "Python 3"
    },
    "language_info": {
      "name": "python"
    }
  },
  "cells": [
    {
      "cell_type": "markdown",
      "metadata": {
        "id": "view-in-github",
        "colab_type": "text"
      },
      "source": [
        "<a href=\"https://colab.research.google.com/github/nsalazard/EFM-analisis-de-datos-/blob/main/EFM_S6.ipynb\" target=\"_parent\"><img src=\"https://colab.research.google.com/assets/colab-badge.svg\" alt=\"Open In Colab\"/></a>"
      ]
    },
    {
      "cell_type": "code",
      "execution_count": null,
      "metadata": {
        "colab": {
          "base_uri": "https://localhost:8080/",
          "height": 258
        },
        "id": "mR4dM0hjdWNH",
        "outputId": "74baa7c8-d2e6-437c-9a7d-fca8669663f4"
      },
      "outputs": [
        {
          "output_type": "stream",
          "name": "stderr",
          "text": [
            "/usr/local/lib/python3.7/dist-packages/statsmodels/tools/_testing.py:19: FutureWarning: pandas.util.testing is deprecated. Use the functions in the public API at pandas.testing instead.\n",
            "  import pandas.util.testing as tm\n"
          ]
        },
        {
          "output_type": "execute_result",
          "data": {
            "text/html": [
              "<div>\n",
              "<style scoped>\n",
              "    .dataframe tbody tr th:only-of-type {\n",
              "        vertical-align: middle;\n",
              "    }\n",
              "\n",
              "    .dataframe tbody tr th {\n",
              "        vertical-align: top;\n",
              "    }\n",
              "\n",
              "    .dataframe thead th {\n",
              "        text-align: right;\n",
              "    }\n",
              "</style>\n",
              "<table border=\"1\" class=\"dataframe\">\n",
              "  <thead>\n",
              "    <tr style=\"text-align: right;\">\n",
              "      <th></th>\n",
              "      <th>y[cm]</th>\n",
              "      <th>Error1</th>\n",
              "      <th>theta[rad]</th>\n",
              "      <th>Error2</th>\n",
              "      <th>lambda[mm]</th>\n",
              "      <th>Error</th>\n",
              "      <th>1/λ[1/m]</th>\n",
              "      <th></th>\n",
              "      <th>q2p2</th>\n",
              "      <th>D[cm]</th>\n",
              "      <th>42</th>\n",
              "    </tr>\n",
              "  </thead>\n",
              "  <tbody>\n",
              "    <tr>\n",
              "      <th>1</th>\n",
              "      <td>21</td>\n",
              "      <td>0.5</td>\n",
              "      <td>0.46</td>\n",
              "      <td>0.01</td>\n",
              "      <td>0.00045</td>\n",
              "      <td>0.00001</td>\n",
              "      <td>2.24E+06</td>\n",
              "      <td>5.95E+04</td>\n",
              "      <td>0.23</td>\n",
              "      <td>d[mm]</td>\n",
              "      <td>0.001</td>\n",
              "    </tr>\n",
              "    <tr>\n",
              "      <th>2</th>\n",
              "      <td>22.5</td>\n",
              "      <td>0.5</td>\n",
              "      <td>0.49</td>\n",
              "      <td>0.01</td>\n",
              "      <td>0.00047</td>\n",
              "      <td>0.00001</td>\n",
              "      <td>2.12E+06</td>\n",
              "      <td>5.34E+04</td>\n",
              "      <td>0.23</td>\n",
              "      <td></td>\n",
              "      <td></td>\n",
              "    </tr>\n",
              "    <tr>\n",
              "      <th>3</th>\n",
              "      <td>23.9</td>\n",
              "      <td>0.5</td>\n",
              "      <td>0.52</td>\n",
              "      <td>0.01</td>\n",
              "      <td>0.00049</td>\n",
              "      <td>0.00001</td>\n",
              "      <td>2.02E+06</td>\n",
              "      <td>4.87E+04</td>\n",
              "      <td>0.22</td>\n",
              "      <td></td>\n",
              "      <td></td>\n",
              "    </tr>\n",
              "    <tr>\n",
              "      <th>4</th>\n",
              "      <td>24.5</td>\n",
              "      <td>0.5</td>\n",
              "      <td>0.53</td>\n",
              "      <td>0.01</td>\n",
              "      <td>0.00050</td>\n",
              "      <td>0.00001</td>\n",
              "      <td>1.98E+06</td>\n",
              "      <td>4.69E+04</td>\n",
              "      <td>0.21</td>\n",
              "      <td></td>\n",
              "      <td></td>\n",
              "    </tr>\n",
              "    <tr>\n",
              "      <th>5</th>\n",
              "      <td>30.5</td>\n",
              "      <td>0.5</td>\n",
              "      <td>0.63</td>\n",
              "      <td>0.01</td>\n",
              "      <td>0.00059</td>\n",
              "      <td>0.00001</td>\n",
              "      <td>1.70E+06</td>\n",
              "      <td>3.45E+04</td>\n",
              "      <td>0.19</td>\n",
              "      <td></td>\n",
              "      <td></td>\n",
              "    </tr>\n",
              "  </tbody>\n",
              "</table>\n",
              "</div>"
            ],
            "text/plain": [
              "0 y[cm] Error1 theta[rad] Error2  ...            q2p2  D[cm]     42\n",
              "1    21    0.5       0.46   0.01  ...  5.95E+04  0.23  d[mm]  0.001\n",
              "2  22.5    0.5       0.49   0.01  ...  5.34E+04  0.23              \n",
              "3  23.9    0.5       0.52   0.01  ...  4.87E+04  0.22              \n",
              "4  24.5    0.5       0.53   0.01  ...  4.69E+04  0.21              \n",
              "5  30.5    0.5       0.63   0.01  ...  3.45E+04  0.19              \n",
              "\n",
              "[5 rows x 11 columns]"
            ]
          },
          "metadata": {},
          "execution_count": 1
        }
      ],
      "source": [
        "import gspread\n",
        "import pandas as pd\n",
        "import statsmodels.api as sm\n",
        "import statistics\n",
        "import matplotlib.pyplot as plt \n",
        "import numpy as np\n",
        "from scipy.optimize import curve_fit\n",
        "from scipy.stats import norm, linregress\n",
        "import matplotlib.colors as mcolors\n",
        "from google.colab import auth\n",
        "from oauth2client.client import GoogleCredentials\n",
        "\n",
        "auth.authenticate_user()\n",
        "gc = gspread.authorize(GoogleCredentials.get_application_default())\n",
        "\n",
        "wb = gc.open_by_url('https://docs.google.com/spreadsheets/d/1qQEcKEodrIHdskoSy9HRgPAKHVfMMP3zG8-lqirZErU/edit#gid=0')\n",
        "worksheet=wb.worksheet('Helio')\n",
        "rows = worksheet.get_all_values()\n",
        "d1=pd.DataFrame(rows)\n",
        "titles=pd.DataFrame(rows)\n",
        "d1.columns = d1.iloc[0]\n",
        "titles=titles.iloc[0:1]\n",
        "d1 = d1.iloc[1:]\n",
        "d1.head()"
      ]
    },
    {
      "cell_type": "code",
      "source": [
        "nombres=d1.columns[0:8]\n",
        "for name in nombres:\n",
        "  d1[name]= pd.to_numeric(d1[name])"
      ],
      "metadata": {
        "id": "vIjeAJ3hdwpL"
      },
      "execution_count": null,
      "outputs": []
    },
    {
      "cell_type": "markdown",
      "source": [
        "#**Helio**"
      ],
      "metadata": {
        "id": "qoKNk6w9mq-b"
      }
    },
    {
      "cell_type": "code",
      "source": [
        "valx1=d1.loc[:6,\"q2p2\"]\n",
        "valy1=d1.loc[:6,\"1/λ[1/m]\"]\n",
        "x1=valx1.values \n",
        "y1=valy1.values\n",
        "\n",
        "#plt.vlines(x=Mx, ymin=y3[np.size(y3)-1], ymax=y1[0], color='red', label ='<$t_2$> = %d s' % (Mx))\n",
        "plt.scatter(x1,y1,color=\"black\",s=20)\n",
        "plt.minorticks_on()\n",
        "plt.grid(b=True,which=\"both\")\n",
        "\n",
        "gradient1, intercept1, r_value1, p_value1, std_err1 = linregress(x1,y1)\n",
        "plt.plot(x1, f1(x1, gradient1, intercept1), 'b-',color=\"mediumvioletred\",label='$1/λ$= %2.2E * $(q^{-2} - p^{-2})$ + %2.2E, $R^2$= %3.3f' % (gradient1, intercept1, r_value1))\n",
        "\n",
        "#plt.xlim([-4, 0])\n",
        "plt.grid(b=True,which=\"both\")\n",
        "plt.legend(loc=\"upper left\") # lower left\n",
        "plt.ylabel(\"1/λ[$1/m$]\")\n",
        "plt.xlabel(\"$q^{-2} - p^{-2}$\")\n",
        "plt.title(\"$1/λ$ vs ($q^{-2} - p^{-2}$)\", fontsize=12)\n",
        "plt.suptitle(\"$Helio$\", fontsize=14,  fontname=\"Times New Roman Bold\")\n",
        "plt.subplots_adjust(top=0.85)\n",
        "#plt.ticklabel_format(useOffset=False, style='plain')\n",
        "plt.ticklabel_format(style='sci', axis='y', scilimits=(0,0))\n",
        "#INCERTIDUMBRES\n",
        "print(\"Ajuste, pendiente  %4.4E +-  %4.4E, intercept  %4.4E +-  %4.4E \"%(gradient1,er_m,intercept1, er_b)) \n",
        "print(\"$R^2$ = %4.3f\" % abs(r_value1))"
      ],
      "metadata": {
        "colab": {
          "base_uri": "https://localhost:8080/",
          "height": 684
        },
        "id": "NvJMpgl_hpdz",
        "outputId": "c2c500bd-8e63-4dcf-b34d-c5da73a87a21"
      },
      "execution_count": null,
      "outputs": [
        {
          "output_type": "error",
          "ename": "TypeError",
          "evalue": "ignored",
          "traceback": [
            "\u001b[0;31m---------------------------------------------------------------------------\u001b[0m",
            "\u001b[0;31mTypeError\u001b[0m                                 Traceback (most recent call last)",
            "\u001b[0;32m<ipython-input-10-9443b7b89fad>\u001b[0m in \u001b[0;36m<module>\u001b[0;34m()\u001b[0m\n\u001b[1;32m      9\u001b[0m \u001b[0mplt\u001b[0m\u001b[0;34m.\u001b[0m\u001b[0mgrid\u001b[0m\u001b[0;34m(\u001b[0m\u001b[0mb\u001b[0m\u001b[0;34m=\u001b[0m\u001b[0;32mTrue\u001b[0m\u001b[0;34m,\u001b[0m\u001b[0mwhich\u001b[0m\u001b[0;34m=\u001b[0m\u001b[0;34m\"both\"\u001b[0m\u001b[0;34m)\u001b[0m\u001b[0;34m\u001b[0m\u001b[0;34m\u001b[0m\u001b[0m\n\u001b[1;32m     10\u001b[0m \u001b[0;34m\u001b[0m\u001b[0m\n\u001b[0;32m---> 11\u001b[0;31m \u001b[0mgradient1\u001b[0m\u001b[0;34m,\u001b[0m \u001b[0mintercept1\u001b[0m\u001b[0;34m,\u001b[0m \u001b[0mr_value1\u001b[0m\u001b[0;34m,\u001b[0m \u001b[0mp_value1\u001b[0m\u001b[0;34m,\u001b[0m \u001b[0mstd_err1\u001b[0m \u001b[0;34m=\u001b[0m \u001b[0mlinregress\u001b[0m\u001b[0;34m(\u001b[0m\u001b[0mx1\u001b[0m\u001b[0;34m,\u001b[0m\u001b[0my1\u001b[0m\u001b[0;34m)\u001b[0m\u001b[0;34m\u001b[0m\u001b[0;34m\u001b[0m\u001b[0m\n\u001b[0m\u001b[1;32m     12\u001b[0m \u001b[0mplt\u001b[0m\u001b[0;34m.\u001b[0m\u001b[0mplot\u001b[0m\u001b[0;34m(\u001b[0m\u001b[0mx1\u001b[0m\u001b[0;34m,\u001b[0m \u001b[0mf1\u001b[0m\u001b[0;34m(\u001b[0m\u001b[0mx1\u001b[0m\u001b[0;34m,\u001b[0m \u001b[0mgradient1\u001b[0m\u001b[0;34m,\u001b[0m \u001b[0mintercept1\u001b[0m\u001b[0;34m)\u001b[0m\u001b[0;34m,\u001b[0m \u001b[0;34m'b-'\u001b[0m\u001b[0;34m,\u001b[0m\u001b[0mcolor\u001b[0m\u001b[0;34m=\u001b[0m\u001b[0;34m\"mediumvioletred\"\u001b[0m\u001b[0;34m,\u001b[0m\u001b[0mlabel\u001b[0m\u001b[0;34m=\u001b[0m\u001b[0;34m'$1/λ$= %2.2E * $(q^{-2} - p^{-2})$ + %2.2E, $R^2$= %3.3f'\u001b[0m \u001b[0;34m%\u001b[0m \u001b[0;34m(\u001b[0m\u001b[0mgradient1\u001b[0m\u001b[0;34m,\u001b[0m \u001b[0mintercept1\u001b[0m\u001b[0;34m,\u001b[0m \u001b[0mr_value1\u001b[0m\u001b[0;34m)\u001b[0m\u001b[0;34m)\u001b[0m\u001b[0;34m\u001b[0m\u001b[0;34m\u001b[0m\u001b[0m\n\u001b[1;32m     13\u001b[0m \u001b[0;34m\u001b[0m\u001b[0m\n",
            "\u001b[0;32m/usr/local/lib/python3.7/dist-packages/scipy/stats/_stats_mstats_common.py\u001b[0m in \u001b[0;36mlinregress\u001b[0;34m(x, y)\u001b[0m\n\u001b[1;32m    110\u001b[0m \u001b[0;34m\u001b[0m\u001b[0m\n\u001b[1;32m    111\u001b[0m     \u001b[0mn\u001b[0m \u001b[0;34m=\u001b[0m \u001b[0mlen\u001b[0m\u001b[0;34m(\u001b[0m\u001b[0mx\u001b[0m\u001b[0;34m)\u001b[0m\u001b[0;34m\u001b[0m\u001b[0;34m\u001b[0m\u001b[0m\n\u001b[0;32m--> 112\u001b[0;31m     \u001b[0mxmean\u001b[0m \u001b[0;34m=\u001b[0m \u001b[0mnp\u001b[0m\u001b[0;34m.\u001b[0m\u001b[0mmean\u001b[0m\u001b[0;34m(\u001b[0m\u001b[0mx\u001b[0m\u001b[0;34m,\u001b[0m \u001b[0;32mNone\u001b[0m\u001b[0;34m)\u001b[0m\u001b[0;34m\u001b[0m\u001b[0;34m\u001b[0m\u001b[0m\n\u001b[0m\u001b[1;32m    113\u001b[0m     \u001b[0mymean\u001b[0m \u001b[0;34m=\u001b[0m \u001b[0mnp\u001b[0m\u001b[0;34m.\u001b[0m\u001b[0mmean\u001b[0m\u001b[0;34m(\u001b[0m\u001b[0my\u001b[0m\u001b[0;34m,\u001b[0m \u001b[0;32mNone\u001b[0m\u001b[0;34m)\u001b[0m\u001b[0;34m\u001b[0m\u001b[0;34m\u001b[0m\u001b[0m\n\u001b[1;32m    114\u001b[0m \u001b[0;34m\u001b[0m\u001b[0m\n",
            "\u001b[0;32m<__array_function__ internals>\u001b[0m in \u001b[0;36mmean\u001b[0;34m(*args, **kwargs)\u001b[0m\n",
            "\u001b[0;32m/usr/local/lib/python3.7/dist-packages/numpy/core/fromnumeric.py\u001b[0m in \u001b[0;36mmean\u001b[0;34m(a, axis, dtype, out, keepdims)\u001b[0m\n\u001b[1;32m   3371\u001b[0m \u001b[0;34m\u001b[0m\u001b[0m\n\u001b[1;32m   3372\u001b[0m     return _methods._mean(a, axis=axis, dtype=dtype,\n\u001b[0;32m-> 3373\u001b[0;31m                           out=out, **kwargs)\n\u001b[0m\u001b[1;32m   3374\u001b[0m \u001b[0;34m\u001b[0m\u001b[0m\n\u001b[1;32m   3375\u001b[0m \u001b[0;34m\u001b[0m\u001b[0m\n",
            "\u001b[0;32m/usr/local/lib/python3.7/dist-packages/numpy/core/_methods.py\u001b[0m in \u001b[0;36m_mean\u001b[0;34m(a, axis, dtype, out, keepdims)\u001b[0m\n\u001b[1;32m    170\u001b[0m             \u001b[0mret\u001b[0m \u001b[0;34m=\u001b[0m \u001b[0mret\u001b[0m\u001b[0;34m.\u001b[0m\u001b[0mdtype\u001b[0m\u001b[0;34m.\u001b[0m\u001b[0mtype\u001b[0m\u001b[0;34m(\u001b[0m\u001b[0mret\u001b[0m \u001b[0;34m/\u001b[0m \u001b[0mrcount\u001b[0m\u001b[0;34m)\u001b[0m\u001b[0;34m\u001b[0m\u001b[0;34m\u001b[0m\u001b[0m\n\u001b[1;32m    171\u001b[0m     \u001b[0;32melse\u001b[0m\u001b[0;34m:\u001b[0m\u001b[0;34m\u001b[0m\u001b[0;34m\u001b[0m\u001b[0m\n\u001b[0;32m--> 172\u001b[0;31m         \u001b[0mret\u001b[0m \u001b[0;34m=\u001b[0m \u001b[0mret\u001b[0m \u001b[0;34m/\u001b[0m \u001b[0mrcount\u001b[0m\u001b[0;34m\u001b[0m\u001b[0;34m\u001b[0m\u001b[0m\n\u001b[0m\u001b[1;32m    173\u001b[0m \u001b[0;34m\u001b[0m\u001b[0m\n\u001b[1;32m    174\u001b[0m     \u001b[0;32mreturn\u001b[0m \u001b[0mret\u001b[0m\u001b[0;34m\u001b[0m\u001b[0;34m\u001b[0m\u001b[0m\n",
            "\u001b[0;31mTypeError\u001b[0m: unsupported operand type(s) for /: 'str' and 'int'"
          ]
        },
        {
          "output_type": "display_data",
          "data": {
            "image/png": "[encoded data removed]",
            "text/plain": [
              "<Figure size 432x288 with 1 Axes>"
            ]
          },
          "metadata": {
            "needs_background": "light"
          }
        }
      ]
    },
    {
      "cell_type": "markdown",
      "source": [
        "#**Hidrógeno**"
      ],
      "metadata": {
        "id": "0xsFbe4IhlTA"
      }
    },
    {
      "cell_type": "code",
      "source": [
        "worksheet2=wb.worksheet('hidrogeno')\n",
        "rows2 = worksheet2.get_all_values()\n",
        "d2=pd.DataFrame(rows2)\n",
        "titles2=pd.DataFrame(rows2)\n",
        "d2.columns = d2.iloc[0]\n",
        "titles2=titles2.iloc[0:1]\n",
        "d2 = d2.iloc[1:]\n",
        "d2.head()\n",
        "\n",
        "names=d2.columns[0:9]\n",
        "for name in names:\n",
        "  d2[name]= pd.to_numeric(d2[name])\n",
        "\n",
        "valx1=d2.loc[0:4,\"q2p2\"]\n",
        "valy1=d2.loc[0:4,\"1/λ[1/m]\"]\n",
        "x1=valx1.values \n",
        "y1=valy1.values\n",
        "\n",
        "#plt.vlines(x=Mx, ymin=y3[np.size(y3)-1], ymax=y1[0], color='red', label ='<$t_2$> = %d s' % (Mx))\n",
        "plt.scatter(x1,y1,color=\"black\",s=20)\n",
        "plt.minorticks_on()\n",
        "plt.grid(b=True,which=\"both\")\n",
        "\n",
        "gradient1, intercept1, r_value1, p_value1, std_err1 = linregress(x1,y1)\n",
        "plt.plot(x1, f1(x1, gradient1, intercept1), 'b-',color=\"dodgerblue\",label='$1/λ$= %2.2E * $(q^{-2} - p^{-2})$ + %2.2E, $R^2$= %3.3f' % (gradient1, intercept1, r_value1))\n",
        "\n",
        "#plt.xlim([-4, 0])\n",
        "plt.grid(b=True,which=\"both\")\n",
        "plt.legend(loc=\"upper left\") # lower left\n",
        "plt.ylabel(\"1/λ[$1/m$]\")\n",
        "plt.xlabel(\"$q^{-2} - p^{-2}$\")\n",
        "plt.title(\"$1/λ$ vs ($q^{-2} - p^{-2}$)\", fontsize=12)\n",
        "plt.suptitle(\"$Hidrógeno$\", fontsize=14,  fontname=\"Times New Roman Bold\")\n",
        "plt.subplots_adjust(top=0.85)\n",
        "#plt.ticklabel_format(useOffset=False, style='plain')\n",
        "plt.ticklabel_format(style='sci', axis='y', scilimits=(0,0))\n",
        "#INCERTIDUMBRES\n",
        "print(\"Ajuste, pendiente  %4.4E +-  %4.4E, intercept  %4.4E +-  %4.4E \"%(gradient1,er_m,intercept1, er_b)) \n",
        "print(\"$R^2$ = %4.3f\" % abs(r_value1))\n",
        "error = abs(1.097 -1.0842)/1.097\n",
        "print(\"error relativo porcentual = \", error)\n"
      ],
      "metadata": {
        "colab": {
          "base_uri": "https://localhost:8080/",
          "height": 503
        },
        "id": "2bwgvGGWpjJr",
        "outputId": "dcfad1a0-9bea-4702-f736-b202bf862016"
      },
      "execution_count": null,
      "outputs": [
        {
          "output_type": "error",
          "ename": "ValueError",
          "evalue": "ignored",
          "traceback": [
            "\u001b[0;31m---------------------------------------------------------------------------\u001b[0m",
            "\u001b[0;31mValueError\u001b[0m                                Traceback (most recent call last)",
            "\u001b[0;32mpandas/_libs/lib.pyx\u001b[0m in \u001b[0;36mpandas._libs.lib.maybe_convert_numeric\u001b[0;34m()\u001b[0m\n",
            "\u001b[0;31mValueError\u001b[0m: Unable to parse string \"1 x 10 ^3\"",
            "\nDuring handling of the above exception, another exception occurred:\n",
            "\u001b[0;31mValueError\u001b[0m                                Traceback (most recent call last)",
            "\u001b[0;32m<ipython-input-6-5797133826a2>\u001b[0m in \u001b[0;36m<module>\u001b[0;34m()\u001b[0m\n\u001b[1;32m     10\u001b[0m \u001b[0mnames\u001b[0m\u001b[0;34m=\u001b[0m\u001b[0md2\u001b[0m\u001b[0;34m.\u001b[0m\u001b[0mcolumns\u001b[0m\u001b[0;34m[\u001b[0m\u001b[0;36m0\u001b[0m\u001b[0;34m:\u001b[0m\u001b[0;36m9\u001b[0m\u001b[0;34m]\u001b[0m\u001b[0;34m\u001b[0m\u001b[0;34m\u001b[0m\u001b[0m\n\u001b[1;32m     11\u001b[0m \u001b[0;32mfor\u001b[0m \u001b[0mname\u001b[0m \u001b[0;32min\u001b[0m \u001b[0mnames\u001b[0m\u001b[0;34m:\u001b[0m\u001b[0;34m\u001b[0m\u001b[0;34m\u001b[0m\u001b[0m\n\u001b[0;32m---> 12\u001b[0;31m   \u001b[0md2\u001b[0m\u001b[0;34m[\u001b[0m\u001b[0mname\u001b[0m\u001b[0;34m]\u001b[0m\u001b[0;34m=\u001b[0m \u001b[0mpd\u001b[0m\u001b[0;34m.\u001b[0m\u001b[0mto_numeric\u001b[0m\u001b[0;34m(\u001b[0m\u001b[0md2\u001b[0m\u001b[0;34m[\u001b[0m\u001b[0mname\u001b[0m\u001b[0;34m]\u001b[0m\u001b[0;34m)\u001b[0m\u001b[0;34m\u001b[0m\u001b[0;34m\u001b[0m\u001b[0m\n\u001b[0m\u001b[1;32m     13\u001b[0m \u001b[0;34m\u001b[0m\u001b[0m\n\u001b[1;32m     14\u001b[0m \u001b[0mvalx1\u001b[0m\u001b[0;34m=\u001b[0m\u001b[0md2\u001b[0m\u001b[0;34m.\u001b[0m\u001b[0mloc\u001b[0m\u001b[0;34m[\u001b[0m\u001b[0;36m0\u001b[0m\u001b[0;34m:\u001b[0m\u001b[0;36m4\u001b[0m\u001b[0;34m,\u001b[0m\u001b[0;34m\"q2p2\"\u001b[0m\u001b[0;34m]\u001b[0m\u001b[0;34m\u001b[0m\u001b[0;34m\u001b[0m\u001b[0m\n",
            "\u001b[0;32m/usr/local/lib/python3.7/dist-packages/pandas/core/tools/numeric.py\u001b[0m in \u001b[0;36mto_numeric\u001b[0;34m(arg, errors, downcast)\u001b[0m\n\u001b[1;32m    151\u001b[0m         \u001b[0;32mtry\u001b[0m\u001b[0;34m:\u001b[0m\u001b[0;34m\u001b[0m\u001b[0;34m\u001b[0m\u001b[0m\n\u001b[1;32m    152\u001b[0m             values = lib.maybe_convert_numeric(\n\u001b[0;32m--> 153\u001b[0;31m                 \u001b[0mvalues\u001b[0m\u001b[0;34m,\u001b[0m \u001b[0mset\u001b[0m\u001b[0;34m(\u001b[0m\u001b[0;34m)\u001b[0m\u001b[0;34m,\u001b[0m \u001b[0mcoerce_numeric\u001b[0m\u001b[0;34m=\u001b[0m\u001b[0mcoerce_numeric\u001b[0m\u001b[0;34m\u001b[0m\u001b[0;34m\u001b[0m\u001b[0m\n\u001b[0m\u001b[1;32m    154\u001b[0m             )\n\u001b[1;32m    155\u001b[0m         \u001b[0;32mexcept\u001b[0m \u001b[0;34m(\u001b[0m\u001b[0mValueError\u001b[0m\u001b[0;34m,\u001b[0m \u001b[0mTypeError\u001b[0m\u001b[0;34m)\u001b[0m\u001b[0;34m:\u001b[0m\u001b[0;34m\u001b[0m\u001b[0;34m\u001b[0m\u001b[0m\n",
            "\u001b[0;32mpandas/_libs/lib.pyx\u001b[0m in \u001b[0;36mpandas._libs.lib.maybe_convert_numeric\u001b[0;34m()\u001b[0m\n",
            "\u001b[0;31mValueError\u001b[0m: Unable to parse string \"1 x 10 ^3\" at position 5"
          ]
        }
      ]
    },
    {
      "cell_type": "markdown",
      "source": [
        "#**Mercurio**"
      ],
      "metadata": {
        "id": "SgqmlfTxrXIA"
      }
    },
    {
      "cell_type": "code",
      "source": [
        "worksheet3=wb.worksheet('Mercurio')\n",
        "rows3 = worksheet3.get_all_values()\n",
        "d3=pd.DataFrame(rows3)\n",
        "titles3=pd.DataFrame(rows3)\n",
        "d3.columns = d3.iloc[0]\n",
        "titles3=titles3.iloc[0:1]\n",
        "d3 = d3.iloc[1:]\n",
        "d3.head()\n",
        "\n",
        "names=d3.columns[0:8]\n",
        "for name in names:\n",
        "  d3[name]= pd.to_numeric(d3[name])\n",
        "\n",
        "valx1=d3.loc[0:6,\"q2p2\"]\n",
        "valy1=d3.loc[0:6,\"1/λ[1/m]\"]\n",
        "x1=valx1.values \n",
        "y1=valy1.values\n",
        "\n",
        "#plt.vlines(x=Mx, ymin=y3[np.size(y3)-1], ymax=y1[0], color='red', label ='<$t_2$> = %d s' % (Mx))\n",
        "plt.scatter(x1,y1,color=\"black\",s=20)\n",
        "plt.minorticks_on()\n",
        "plt.grid(b=True,which=\"both\")\n",
        "\n",
        "gradient1, intercept1, r_value1, p_value1, std_err1 = linregress(x1,y1)\n",
        "plt.plot(x1, f1(x1, gradient1, intercept1), 'b-',color=\"royalblue\",label='$1/λ$= %2.2E * $(q^{-2} - p^{-2})$ + %2.2E, $R^2$= %3.3f' % (gradient1, intercept1, r_value1))\n",
        "\n",
        "#plt.xlim([-4, 0])\n",
        "plt.grid(b=True,which=\"both\")\n",
        "plt.legend(loc=\"upper left\") # lower left\n",
        "plt.ylabel(\"1/λ[$1/m$]\")\n",
        "plt.xlabel(\"$q^{-2} - p^{-2}$\")\n",
        "plt.title(\"$1/λ$ vs ($q^{-2} - p^{-2}$)\", fontsize=12)\n",
        "plt.suptitle(\"$Mercurio$\", fontsize=14,  fontname=\"Times New Roman Bold\")\n",
        "plt.subplots_adjust(top=0.85)\n",
        "#plt.ticklabel_format(useOffset=False, style='plain')\n",
        "plt.ticklabel_format(style='sci', axis='y', scilimits=(0,0))\n",
        "#INCERTIDUMBRES\n",
        "print(\"Ajuste, pendiente  %4.4E +-  %4.4E, intercept  %4.4E +-  %4.4E \"%(gradient1,er_m,intercept1, er_b)) \n",
        "print(\"$R^2$ = %4.3f\" % abs(r_value1))"
      ],
      "metadata": {
        "colab": {
          "base_uri": "https://localhost:8080/",
          "height": 684
        },
        "id": "0xOzcfJ9rWYy",
        "outputId": "8996e758-2304-4817-9b78-8ee96678e829"
      },
      "execution_count": null,
      "outputs": [
        {
          "output_type": "error",
          "ename": "TypeError",
          "evalue": "ignored",
          "traceback": [
            "\u001b[0;31m---------------------------------------------------------------------------\u001b[0m",
            "\u001b[0;31mTypeError\u001b[0m                                 Traceback (most recent call last)",
            "\u001b[0;32m<ipython-input-7-da071783c668>\u001b[0m in \u001b[0;36m<module>\u001b[0;34m()\u001b[0m\n\u001b[1;32m     22\u001b[0m \u001b[0mplt\u001b[0m\u001b[0;34m.\u001b[0m\u001b[0mgrid\u001b[0m\u001b[0;34m(\u001b[0m\u001b[0mb\u001b[0m\u001b[0;34m=\u001b[0m\u001b[0;32mTrue\u001b[0m\u001b[0;34m,\u001b[0m\u001b[0mwhich\u001b[0m\u001b[0;34m=\u001b[0m\u001b[0;34m\"both\"\u001b[0m\u001b[0;34m)\u001b[0m\u001b[0;34m\u001b[0m\u001b[0;34m\u001b[0m\u001b[0m\n\u001b[1;32m     23\u001b[0m \u001b[0;34m\u001b[0m\u001b[0m\n\u001b[0;32m---> 24\u001b[0;31m \u001b[0mgradient1\u001b[0m\u001b[0;34m,\u001b[0m \u001b[0mintercept1\u001b[0m\u001b[0;34m,\u001b[0m \u001b[0mr_value1\u001b[0m\u001b[0;34m,\u001b[0m \u001b[0mp_value1\u001b[0m\u001b[0;34m,\u001b[0m \u001b[0mstd_err1\u001b[0m \u001b[0;34m=\u001b[0m \u001b[0mlinregress\u001b[0m\u001b[0;34m(\u001b[0m\u001b[0mx1\u001b[0m\u001b[0;34m,\u001b[0m\u001b[0my1\u001b[0m\u001b[0;34m)\u001b[0m\u001b[0;34m\u001b[0m\u001b[0;34m\u001b[0m\u001b[0m\n\u001b[0m\u001b[1;32m     25\u001b[0m \u001b[0mplt\u001b[0m\u001b[0;34m.\u001b[0m\u001b[0mplot\u001b[0m\u001b[0;34m(\u001b[0m\u001b[0mx1\u001b[0m\u001b[0;34m,\u001b[0m \u001b[0mf1\u001b[0m\u001b[0;34m(\u001b[0m\u001b[0mx1\u001b[0m\u001b[0;34m,\u001b[0m \u001b[0mgradient1\u001b[0m\u001b[0;34m,\u001b[0m \u001b[0mintercept1\u001b[0m\u001b[0;34m)\u001b[0m\u001b[0;34m,\u001b[0m \u001b[0;34m'b-'\u001b[0m\u001b[0;34m,\u001b[0m\u001b[0mcolor\u001b[0m\u001b[0;34m=\u001b[0m\u001b[0;34m\"royalblue\"\u001b[0m\u001b[0;34m,\u001b[0m\u001b[0mlabel\u001b[0m\u001b[0;34m=\u001b[0m\u001b[0;34m'$1/λ$= %2.2E * $(q^{-2} - p^{-2})$ + %2.2E, $R^2$= %3.3f'\u001b[0m \u001b[0;34m%\u001b[0m \u001b[0;34m(\u001b[0m\u001b[0mgradient1\u001b[0m\u001b[0;34m,\u001b[0m \u001b[0mintercept1\u001b[0m\u001b[0;34m,\u001b[0m \u001b[0mr_value1\u001b[0m\u001b[0;34m)\u001b[0m\u001b[0;34m)\u001b[0m\u001b[0;34m\u001b[0m\u001b[0;34m\u001b[0m\u001b[0m\n\u001b[1;32m     26\u001b[0m \u001b[0;34m\u001b[0m\u001b[0m\n",
            "\u001b[0;32m/usr/local/lib/python3.7/dist-packages/scipy/stats/_stats_mstats_common.py\u001b[0m in \u001b[0;36mlinregress\u001b[0;34m(x, y)\u001b[0m\n\u001b[1;32m    110\u001b[0m \u001b[0;34m\u001b[0m\u001b[0m\n\u001b[1;32m    111\u001b[0m     \u001b[0mn\u001b[0m \u001b[0;34m=\u001b[0m \u001b[0mlen\u001b[0m\u001b[0;34m(\u001b[0m\u001b[0mx\u001b[0m\u001b[0;34m)\u001b[0m\u001b[0;34m\u001b[0m\u001b[0;34m\u001b[0m\u001b[0m\n\u001b[0;32m--> 112\u001b[0;31m     \u001b[0mxmean\u001b[0m \u001b[0;34m=\u001b[0m \u001b[0mnp\u001b[0m\u001b[0;34m.\u001b[0m\u001b[0mmean\u001b[0m\u001b[0;34m(\u001b[0m\u001b[0mx\u001b[0m\u001b[0;34m,\u001b[0m \u001b[0;32mNone\u001b[0m\u001b[0;34m)\u001b[0m\u001b[0;34m\u001b[0m\u001b[0;34m\u001b[0m\u001b[0m\n\u001b[0m\u001b[1;32m    113\u001b[0m     \u001b[0mymean\u001b[0m \u001b[0;34m=\u001b[0m \u001b[0mnp\u001b[0m\u001b[0;34m.\u001b[0m\u001b[0mmean\u001b[0m\u001b[0;34m(\u001b[0m\u001b[0my\u001b[0m\u001b[0;34m,\u001b[0m \u001b[0;32mNone\u001b[0m\u001b[0;34m)\u001b[0m\u001b[0;34m\u001b[0m\u001b[0;34m\u001b[0m\u001b[0m\n\u001b[1;32m    114\u001b[0m \u001b[0;34m\u001b[0m\u001b[0m\n",
            "\u001b[0;32m<__array_function__ internals>\u001b[0m in \u001b[0;36mmean\u001b[0;34m(*args, **kwargs)\u001b[0m\n",
            "\u001b[0;32m/usr/local/lib/python3.7/dist-packages/numpy/core/fromnumeric.py\u001b[0m in \u001b[0;36mmean\u001b[0;34m(a, axis, dtype, out, keepdims)\u001b[0m\n\u001b[1;32m   3371\u001b[0m \u001b[0;34m\u001b[0m\u001b[0m\n\u001b[1;32m   3372\u001b[0m     return _methods._mean(a, axis=axis, dtype=dtype,\n\u001b[0;32m-> 3373\u001b[0;31m                           out=out, **kwargs)\n\u001b[0m\u001b[1;32m   3374\u001b[0m \u001b[0;34m\u001b[0m\u001b[0m\n\u001b[1;32m   3375\u001b[0m \u001b[0;34m\u001b[0m\u001b[0m\n",
            "\u001b[0;32m/usr/local/lib/python3.7/dist-packages/numpy/core/_methods.py\u001b[0m in \u001b[0;36m_mean\u001b[0;34m(a, axis, dtype, out, keepdims)\u001b[0m\n\u001b[1;32m    170\u001b[0m             \u001b[0mret\u001b[0m \u001b[0;34m=\u001b[0m \u001b[0mret\u001b[0m\u001b[0;34m.\u001b[0m\u001b[0mdtype\u001b[0m\u001b[0;34m.\u001b[0m\u001b[0mtype\u001b[0m\u001b[0;34m(\u001b[0m\u001b[0mret\u001b[0m \u001b[0;34m/\u001b[0m \u001b[0mrcount\u001b[0m\u001b[0;34m)\u001b[0m\u001b[0;34m\u001b[0m\u001b[0;34m\u001b[0m\u001b[0m\n\u001b[1;32m    171\u001b[0m     \u001b[0;32melse\u001b[0m\u001b[0;34m:\u001b[0m\u001b[0;34m\u001b[0m\u001b[0;34m\u001b[0m\u001b[0m\n\u001b[0;32m--> 172\u001b[0;31m         \u001b[0mret\u001b[0m \u001b[0;34m=\u001b[0m \u001b[0mret\u001b[0m \u001b[0;34m/\u001b[0m \u001b[0mrcount\u001b[0m\u001b[0;34m\u001b[0m\u001b[0;34m\u001b[0m\u001b[0m\n\u001b[0m\u001b[1;32m    173\u001b[0m \u001b[0;34m\u001b[0m\u001b[0m\n\u001b[1;32m    174\u001b[0m     \u001b[0;32mreturn\u001b[0m \u001b[0mret\u001b[0m\u001b[0;34m\u001b[0m\u001b[0;34m\u001b[0m\u001b[0m\n",
            "\u001b[0;31mTypeError\u001b[0m: unsupported operand type(s) for /: 'str' and 'int'"
          ]
        },
        {
          "output_type": "display_data",
          "data": {
            "image/png": "[encoded data removed]",
            "text/plain": [
              "<Figure size 432x288 with 1 Axes>"
            ]
          },
          "metadata": {
            "needs_background": "light"
          }
        }
      ]
    },
    {
      "cell_type": "markdown",
      "source": [
        "#**Neon**"
      ],
      "metadata": {
        "id": "pnY8mUQvssRH"
      }
    },
    {
      "cell_type": "code",
      "source": [
        "worksheet4=wb.worksheet('Neon')\n",
        "rows4 = worksheet4.get_all_values()\n",
        "d4=pd.DataFrame(rows4)\n",
        "titles3=pd.DataFrame(rows4)\n",
        "d4.columns = d4.iloc[0]\n",
        "titles4=titles.iloc[0:1]\n",
        "d4 = d4.iloc[1:]\n",
        "d4.head()\n",
        "\n",
        "names=d4.columns[0:8]\n",
        "for name in names:\n",
        "  d4[name]= pd.to_numeric(d4[name])\n",
        "\n",
        "valx1=d4.loc[0:11,\"q2p2\"]\n",
        "valy1=d4.loc[0:11,\"1/λ[1/m]\"]\n",
        "x1=valx1.values \n",
        "y1=valy1.values\n",
        "\n",
        "#plt.vlines(x=Mx, ymin=y3[np.size(y3)-1], ymax=y1[0], color='red', label ='<$t_2$> = %d s' % (Mx))\n",
        "plt.scatter(x1,y1,color=\"black\",s=20)\n",
        "plt.minorticks_on()\n",
        "plt.grid(b=True,which=\"both\")\n",
        "\n",
        "gradient1, intercept1, r_value1, p_value1, std_err1 = linregress(x1,y1)\n",
        "plt.plot(x1, f1(x1, gradient1, intercept1), 'b-',color=\"royalblue\",label='$1/λ$= %2.2E * $(q^{-2} - p^{-2})$ + %2.2E, $R^2$= %3.3f' % (gradient1, intercept1, r_value1))\n",
        "\n",
        "#plt.xlim([-4, 0])\n",
        "plt.grid(b=True,which=\"both\")\n",
        "plt.legend(loc=\"upper left\") # lower left\n",
        "plt.ylabel(\"1/λ[$1/m$]\")\n",
        "plt.xlabel(\"$q^{-2} - p^{-2}$\")\n",
        "plt.title(\"$1/λ$ vs ($q^{-2} - p^{-2}$)\", fontsize=12)\n",
        "plt.suptitle(\"$Neón$\", fontsize=14,  fontname=\"Times New Roman Bold\")\n",
        "plt.subplots_adjust(top=0.85)\n",
        "#plt.ticklabel_format(useOffset=False, style='plain')\n",
        "plt.ticklabel_format(style='sci', axis='y', scilimits=(0,0))\n",
        "#INCERTIDUMBRES\n",
        "print(\"Ajuste, pendiente  %4.4E +-  %4.4E, intercept  %4.4E +-  %4.4E \"%(gradient1,er_m,intercept1, er_b)) \n",
        "print(\"$R^2$ = %4.3f\" % abs(r_value1))"
      ],
      "metadata": {
        "colab": {
          "base_uri": "https://localhost:8080/",
          "height": 684
        },
        "id": "y1M6TsadsuCL",
        "outputId": "04119795-8998-4eac-d64d-a8ee6114a2fc"
      },
      "execution_count": null,
      "outputs": [
        {
          "output_type": "error",
          "ename": "TypeError",
          "evalue": "ignored",
          "traceback": [
            "\u001b[0;31m---------------------------------------------------------------------------\u001b[0m",
            "\u001b[0;31mTypeError\u001b[0m                                 Traceback (most recent call last)",
            "\u001b[0;32m<ipython-input-8-e2ce9ec84b98>\u001b[0m in \u001b[0;36m<module>\u001b[0;34m()\u001b[0m\n\u001b[1;32m     22\u001b[0m \u001b[0mplt\u001b[0m\u001b[0;34m.\u001b[0m\u001b[0mgrid\u001b[0m\u001b[0;34m(\u001b[0m\u001b[0mb\u001b[0m\u001b[0;34m=\u001b[0m\u001b[0;32mTrue\u001b[0m\u001b[0;34m,\u001b[0m\u001b[0mwhich\u001b[0m\u001b[0;34m=\u001b[0m\u001b[0;34m\"both\"\u001b[0m\u001b[0;34m)\u001b[0m\u001b[0;34m\u001b[0m\u001b[0;34m\u001b[0m\u001b[0m\n\u001b[1;32m     23\u001b[0m \u001b[0;34m\u001b[0m\u001b[0m\n\u001b[0;32m---> 24\u001b[0;31m \u001b[0mgradient1\u001b[0m\u001b[0;34m,\u001b[0m \u001b[0mintercept1\u001b[0m\u001b[0;34m,\u001b[0m \u001b[0mr_value1\u001b[0m\u001b[0;34m,\u001b[0m \u001b[0mp_value1\u001b[0m\u001b[0;34m,\u001b[0m \u001b[0mstd_err1\u001b[0m \u001b[0;34m=\u001b[0m \u001b[0mlinregress\u001b[0m\u001b[0;34m(\u001b[0m\u001b[0mx1\u001b[0m\u001b[0;34m,\u001b[0m\u001b[0my1\u001b[0m\u001b[0;34m)\u001b[0m\u001b[0;34m\u001b[0m\u001b[0;34m\u001b[0m\u001b[0m\n\u001b[0m\u001b[1;32m     25\u001b[0m \u001b[0mplt\u001b[0m\u001b[0;34m.\u001b[0m\u001b[0mplot\u001b[0m\u001b[0;34m(\u001b[0m\u001b[0mx1\u001b[0m\u001b[0;34m,\u001b[0m \u001b[0mf1\u001b[0m\u001b[0;34m(\u001b[0m\u001b[0mx1\u001b[0m\u001b[0;34m,\u001b[0m \u001b[0mgradient1\u001b[0m\u001b[0;34m,\u001b[0m \u001b[0mintercept1\u001b[0m\u001b[0;34m)\u001b[0m\u001b[0;34m,\u001b[0m \u001b[0;34m'b-'\u001b[0m\u001b[0;34m,\u001b[0m\u001b[0mcolor\u001b[0m\u001b[0;34m=\u001b[0m\u001b[0;34m\"royalblue\"\u001b[0m\u001b[0;34m,\u001b[0m\u001b[0mlabel\u001b[0m\u001b[0;34m=\u001b[0m\u001b[0;34m'$1/λ$= %2.2E * $(q^{-2} - p^{-2})$ + %2.2E, $R^2$= %3.3f'\u001b[0m \u001b[0;34m%\u001b[0m \u001b[0;34m(\u001b[0m\u001b[0mgradient1\u001b[0m\u001b[0;34m,\u001b[0m \u001b[0mintercept1\u001b[0m\u001b[0;34m,\u001b[0m \u001b[0mr_value1\u001b[0m\u001b[0;34m)\u001b[0m\u001b[0;34m)\u001b[0m\u001b[0;34m\u001b[0m\u001b[0;34m\u001b[0m\u001b[0m\n\u001b[1;32m     26\u001b[0m \u001b[0;34m\u001b[0m\u001b[0m\n",
            "\u001b[0;32m/usr/local/lib/python3.7/dist-packages/scipy/stats/_stats_mstats_common.py\u001b[0m in \u001b[0;36mlinregress\u001b[0;34m(x, y)\u001b[0m\n\u001b[1;32m    110\u001b[0m \u001b[0;34m\u001b[0m\u001b[0m\n\u001b[1;32m    111\u001b[0m     \u001b[0mn\u001b[0m \u001b[0;34m=\u001b[0m \u001b[0mlen\u001b[0m\u001b[0;34m(\u001b[0m\u001b[0mx\u001b[0m\u001b[0;34m)\u001b[0m\u001b[0;34m\u001b[0m\u001b[0;34m\u001b[0m\u001b[0m\n\u001b[0;32m--> 112\u001b[0;31m     \u001b[0mxmean\u001b[0m \u001b[0;34m=\u001b[0m \u001b[0mnp\u001b[0m\u001b[0;34m.\u001b[0m\u001b[0mmean\u001b[0m\u001b[0;34m(\u001b[0m\u001b[0mx\u001b[0m\u001b[0;34m,\u001b[0m \u001b[0;32mNone\u001b[0m\u001b[0;34m)\u001b[0m\u001b[0;34m\u001b[0m\u001b[0;34m\u001b[0m\u001b[0m\n\u001b[0m\u001b[1;32m    113\u001b[0m     \u001b[0mymean\u001b[0m \u001b[0;34m=\u001b[0m \u001b[0mnp\u001b[0m\u001b[0;34m.\u001b[0m\u001b[0mmean\u001b[0m\u001b[0;34m(\u001b[0m\u001b[0my\u001b[0m\u001b[0;34m,\u001b[0m \u001b[0;32mNone\u001b[0m\u001b[0;34m)\u001b[0m\u001b[0;34m\u001b[0m\u001b[0;34m\u001b[0m\u001b[0m\n\u001b[1;32m    114\u001b[0m \u001b[0;34m\u001b[0m\u001b[0m\n",
            "\u001b[0;32m<__array_function__ internals>\u001b[0m in \u001b[0;36mmean\u001b[0;34m(*args, **kwargs)\u001b[0m\n",
            "\u001b[0;32m/usr/local/lib/python3.7/dist-packages/numpy/core/fromnumeric.py\u001b[0m in \u001b[0;36mmean\u001b[0;34m(a, axis, dtype, out, keepdims)\u001b[0m\n\u001b[1;32m   3371\u001b[0m \u001b[0;34m\u001b[0m\u001b[0m\n\u001b[1;32m   3372\u001b[0m     return _methods._mean(a, axis=axis, dtype=dtype,\n\u001b[0;32m-> 3373\u001b[0;31m                           out=out, **kwargs)\n\u001b[0m\u001b[1;32m   3374\u001b[0m \u001b[0;34m\u001b[0m\u001b[0m\n\u001b[1;32m   3375\u001b[0m \u001b[0;34m\u001b[0m\u001b[0m\n",
            "\u001b[0;32m/usr/local/lib/python3.7/dist-packages/numpy/core/_methods.py\u001b[0m in \u001b[0;36m_mean\u001b[0;34m(a, axis, dtype, out, keepdims)\u001b[0m\n\u001b[1;32m    170\u001b[0m             \u001b[0mret\u001b[0m \u001b[0;34m=\u001b[0m \u001b[0mret\u001b[0m\u001b[0;34m.\u001b[0m\u001b[0mdtype\u001b[0m\u001b[0;34m.\u001b[0m\u001b[0mtype\u001b[0m\u001b[0;34m(\u001b[0m\u001b[0mret\u001b[0m \u001b[0;34m/\u001b[0m \u001b[0mrcount\u001b[0m\u001b[0;34m)\u001b[0m\u001b[0;34m\u001b[0m\u001b[0;34m\u001b[0m\u001b[0m\n\u001b[1;32m    171\u001b[0m     \u001b[0;32melse\u001b[0m\u001b[0;34m:\u001b[0m\u001b[0;34m\u001b[0m\u001b[0;34m\u001b[0m\u001b[0m\n\u001b[0;32m--> 172\u001b[0;31m         \u001b[0mret\u001b[0m \u001b[0;34m=\u001b[0m \u001b[0mret\u001b[0m \u001b[0;34m/\u001b[0m \u001b[0mrcount\u001b[0m\u001b[0;34m\u001b[0m\u001b[0;34m\u001b[0m\u001b[0m\n\u001b[0m\u001b[1;32m    173\u001b[0m \u001b[0;34m\u001b[0m\u001b[0m\n\u001b[1;32m    174\u001b[0m     \u001b[0;32mreturn\u001b[0m \u001b[0mret\u001b[0m\u001b[0;34m\u001b[0m\u001b[0;34m\u001b[0m\u001b[0m\n",
            "\u001b[0;31mTypeError\u001b[0m: unsupported operand type(s) for /: 'str' and 'int'"
          ]
        },
        {
          "output_type": "display_data",
          "data": {
            "image/png": "[encoded data removed]",
            "text/plain": [
              "<Figure size 432x288 with 1 Axes>"
            ]
          },
          "metadata": {
            "needs_background": "light"
          }
        }
      ]
    },
    {
      "cell_type": "code",
      "source": [
        "#FUNCIONES\n",
        "def f1(x,a,b):\n",
        "  return a*x+b\n",
        "\n",
        "def ERROR(x,y,m,b):\n",
        "  N = np.size(x)\n",
        "  Sx,Sy,Sxx,Syy,e,em,eb,z = 0,0,0,0,0,0,0,0\n",
        "  for i in range (N-1):\n",
        "    Sx += x[i]\n",
        "    Sy += y[i] \n",
        "    Sxx += x[i]*x[i]\n",
        "    Syy += y[i]*y[i]\n",
        "    z += (b+ m*x[i] - y[i])**2\n",
        "  e = np.sqrt(z/((N*Sxx -Sx*Sx)*(N-2)))\n",
        "  em = np.sqrt(N)*e\n",
        "  eb = np.sqrt(Sxx)*e\n",
        "\n",
        "  return (em, eb)\n",
        "\n",
        "def gaussiana(x, a, b, c):\n",
        "\treturn a * np.exp(-((x-b)**2)/(c))"
      ],
      "metadata": {
        "id": "XKtxHJjrfZ18"
      },
      "execution_count": null,
      "outputs": []
    }
  ]
}