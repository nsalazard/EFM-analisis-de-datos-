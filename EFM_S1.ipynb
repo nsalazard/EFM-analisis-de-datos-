{
  "nbformat": 4,
  "nbformat_minor": 0,
  "metadata": {
    "colab": {
      "name": "EFM_S1.ipynb",
      "provenance": [],
      "include_colab_link": true
    },
    "kernelspec": {
      "display_name": "Python 3",
      "name": "python3"
    },
    "language_info": {
      "name": "python"
    }
  },
  "cells": [
    {
      "cell_type": "markdown",
      "metadata": {
        "id": "view-in-github",
        "colab_type": "text"
      },
      "source": [
        "<a href=\"https://colab.research.google.com/github/nsalazard/EFM-analisis-de-datos-/blob/main/EFM_S1.ipynb\" target=\"_parent\"><img src=\"https://colab.research.google.com/assets/colab-badge.svg\" alt=\"Open In Colab\"/></a>"
      ]
    },
    {
      "cell_type": "markdown",
      "metadata": {
        "id": "9EJKEvtneUc5"
      },
      "source": [
        "#To-do\n",
        "\n",
        "1. Simulador\n",
        "Cual es la relacion funcional entre la longitud de onda maxima y la temperartura? entre la densidad de potencia radiada y la temperatura?\n",
        "\n",
        "- Probar con graficas semilog, log. Buscar mejor linealidad\n",
        "\n",
        "Encontrar de manera empirica las relaciones de arriba\n",
        "Las incertidumbres del simulador son muy pequeñas. Comparar con la ley de desplazamiento de Wien\n",
        "\n",
        "Ley de Stephan-Botzman \n",
        "\n",
        "2. Filamento de una lampara halogena, de tungsteno\n",
        "Se calienta por efecto Joule\n",
        "##Ley de Stefan-Boltzmann\n",
        "Dejamos distancia fija, variamos la temperatura\n",
        "\n",
        "## Ley del inverso del cuadrado\n",
        "Variamos la distancia, medimos la potencia, dejamos la temperatura fija en su maximo\n",
        "\n",
        "La temperatura del filamento la hallamos con la resistencia: "
      ]
    },
    {
      "cell_type": "code",
      "metadata": {
        "colab": {
          "base_uri": "https://localhost:8080/",
          "height": 258
        },
        "id": "SL3lFgI5FAH0",
        "outputId": "4e8cf6c7-5ab7-490f-ec64-1c168d56d3c6"
      },
      "source": [
        "import gspread\n",
        "import pandas as pd\n",
        "import statsmodels.api as sm\n",
        "import matplotlib.pyplot as plt \n",
        "import numpy as np\n",
        "from scipy.optimize import curve_fit\n",
        "from scipy.stats import norm\n",
        "import matplotlib.colors as mcolors\n",
        "from google.colab import auth\n",
        "from oauth2client.client import GoogleCredentials\n",
        "\n",
        "auth.authenticate_user()\n",
        "gc = gspread.authorize(GoogleCredentials.get_application_default())\n",
        "\n",
        "wb = gc.open_by_url('https://docs.google.com/spreadsheets/d/1Sl6b9ba_TCDCsNGTEgl9pGRxYAz2rjUi9Y4xTVciG0s/edit#gid=272858779')\n",
        "worksheet=wb.worksheet('PARTE 0')\n",
        "rows = worksheet.get_all_values()\n",
        "df=pd.DataFrame(rows)\n",
        "titles=pd.DataFrame(rows)\n",
        "df.columns = df.iloc[0]# Esto pone las columnas del dataframe con los mismos nombres que la primera fila del sheets\n",
        "titles=titles.iloc[0:1]\n",
        "df = df.iloc[1:]#esto se salta la primera fila que es los titulos de las columnas porque ya nombramos a las columnas en la linea anterior y se repetirian\n",
        "df.head()"
      ],
      "execution_count": null,
      "outputs": [
        {
          "output_type": "stream",
          "name": "stderr",
          "text": [
            "/usr/local/lib/python3.7/dist-packages/statsmodels/tools/_testing.py:19: FutureWarning: pandas.util.testing is deprecated. Use the functions in the public API at pandas.testing instead.\n",
            "  import pandas.util.testing as tm\n"
          ]
        },
        {
          "output_type": "execute_result",
          "data": {
            "text/html": [
              "<div>\n",
              "<style scoped>\n",
              "    .dataframe tbody tr th:only-of-type {\n",
              "        vertical-align: middle;\n",
              "    }\n",
              "\n",
              "    .dataframe tbody tr th {\n",
              "        vertical-align: top;\n",
              "    }\n",
              "\n",
              "    .dataframe thead th {\n",
              "        text-align: right;\n",
              "    }\n",
              "</style>\n",
              "<table border=\"1\" class=\"dataframe\">\n",
              "  <thead>\n",
              "    <tr style=\"text-align: right;\">\n",
              "      <th></th>\n",
              "      <th>T(K)</th>\n",
              "      <th>λ_max</th>\n",
              "      <th>R</th>\n",
              "      <th>Wien</th>\n",
              "    </tr>\n",
              "  </thead>\n",
              "  <tbody>\n",
              "    <tr>\n",
              "      <th>1</th>\n",
              "      <td>200</td>\n",
              "      <td>14.489</td>\n",
              "      <td>9.07E+01</td>\n",
              "      <td></td>\n",
              "    </tr>\n",
              "    <tr>\n",
              "      <th>2</th>\n",
              "      <td>500</td>\n",
              "      <td>5.796</td>\n",
              "      <td>3.54E+03</td>\n",
              "      <td></td>\n",
              "    </tr>\n",
              "    <tr>\n",
              "      <th>3</th>\n",
              "      <td>800</td>\n",
              "      <td>3.622</td>\n",
              "      <td>2.32E+04</td>\n",
              "      <td></td>\n",
              "    </tr>\n",
              "    <tr>\n",
              "      <th>4</th>\n",
              "      <td>1100</td>\n",
              "      <td>2.634</td>\n",
              "      <td>8.30E+04</td>\n",
              "      <td></td>\n",
              "    </tr>\n",
              "    <tr>\n",
              "      <th>5</th>\n",
              "      <td>1400</td>\n",
              "      <td>2.070</td>\n",
              "      <td>2.18E+05</td>\n",
              "      <td></td>\n",
              "    </tr>\n",
              "  </tbody>\n",
              "</table>\n",
              "</div>"
            ],
            "text/plain": [
              "0  T(K)   λ_max         R Wien\n",
              "1   200  14.489  9.07E+01     \n",
              "2   500   5.796  3.54E+03     \n",
              "3   800   3.622  2.32E+04     \n",
              "4  1100   2.634  8.30E+04     \n",
              "5  1400   2.070  2.18E+05     "
            ]
          },
          "metadata": {},
          "execution_count": 1
        }
      ]
    },
    {
      "cell_type": "code",
      "metadata": {
        "colab": {
          "base_uri": "https://localhost:8080/"
        },
        "id": "JA4SzHPCok3u",
        "outputId": "3c281a1c-b05b-406e-cb1c-c6644e172da3"
      },
      "source": [
        "df.columns"
      ],
      "execution_count": null,
      "outputs": [
        {
          "output_type": "execute_result",
          "data": {
            "text/plain": [
              "Index(['T(K)', 'λ_max', 'R', 'Wien'], dtype='object', name=0)"
            ]
          },
          "metadata": {},
          "execution_count": 2
        }
      ]
    },
    {
      "cell_type": "code",
      "metadata": {
        "id": "H0zEeU-lIOYg"
      },
      "source": [
        "nombres=df.columns.tolist()\n",
        "for name in nombres:\n",
        "  df[name]= pd.to_numeric(df[name])"
      ],
      "execution_count": null,
      "outputs": []
    },
    {
      "cell_type": "code",
      "metadata": {
        "id": "MGLedmvELZZR"
      },
      "source": [
        "def f1(x,a,b):\n",
        "  return a*x**b"
      ],
      "execution_count": null,
      "outputs": []
    },
    {
      "cell_type": "code",
      "metadata": {
        "colab": {
          "base_uri": "https://localhost:8080/",
          "height": 316
        },
        "id": "04ekJqNLpIOi",
        "outputId": "fb06b2f5-20f0-41b7-938d-29b75b6d3177"
      },
      "source": [
        "valx=df.loc[:329,\"T(K)\"]\n",
        "valy=df.loc[:329,\"R\"]\n",
        "x=valx.values #se deben pasar los valores de las columnas del dataframe df, entonces se sacan los valores de los dataframes a unos arreglos de numpy\n",
        "y=valy.values\n",
        "plt.scatter(x,y,label=\"Datos del simulador\",color=\"black\")\n",
        "plt.plot(x, y)\n",
        "\n",
        "popt, pcov = curve_fit(f1, x, y)\n",
        "#plt.plot(x, f1(x, *popt), 'r-', label='fit: a=%5.5f, b=%5.5f' % tuple(popt))\n",
        "plt.plot(x, f1(x, *popt), 'r-', label='fit: f(x) = 5.670 e-08 x^4')\n",
        "\n",
        "plt.grid(b=True,which=\"both\")\n",
        "plt.legend(loc=\"lower right\")\n",
        "plt.loglog(basex=10,basey=10)\n",
        "#plt.semilogx()\n",
        "#plt.semilogy()\n",
        "#plt.xscale(\"log\")\n",
        "#plt.yscale(\"log\")\n",
        "plt.xlabel(\"Temperatura [K]\")\n",
        "plt.ylabel(\"Densidad de potencia radiada [W/m^2]\")\n",
        "plt.title(\"Ley de Stefan-Boltzmann\")"
      ],
      "execution_count": null,
      "outputs": [
        {
          "output_type": "execute_result",
          "data": {
            "text/plain": [
              "Text(0.5, 1.0, 'Ley de Stefan-Boltzmann')"
            ]
          },
          "metadata": {},
          "execution_count": 5
        },
        {
          "output_type": "display_data",
          "data": {
            "image/png": "[encoded data removed]",
            "text/plain": [
              "<Figure size 432x288 with 1 Axes>"
            ]
          },
          "metadata": {
            "needs_background": "light"
          }
        }
      ]
    },
    {
      "cell_type": "code",
      "metadata": {
        "colab": {
          "base_uri": "https://localhost:8080/"
        },
        "id": "wUpu7cltFb9n",
        "outputId": "8b33f26f-a1a0-4b47-de28-df395ba2a316"
      },
      "source": [
        "#np.polyfit(x, y, 4)\n",
        "def fs(x,a):\n",
        "  return a*x**4\n",
        "popt, pcov = curve_fit(fs, x, y)\n",
        "popt"
      ],
      "execution_count": null,
      "outputs": [
        {
          "output_type": "execute_result",
          "data": {
            "text/plain": [
              "array([5.67009419e-08])"
            ]
          },
          "metadata": {},
          "execution_count": 8
        }
      ]
    },
    {
      "cell_type": "markdown",
      "metadata": {
        "id": "68z83OwWa9oh"
      },
      "source": [
        "## Ley de Desplazamiento de Wien"
      ]
    },
    {
      "cell_type": "code",
      "metadata": {
        "colab": {
          "base_uri": "https://localhost:8080/",
          "height": 316
        },
        "id": "1HGLmkZOwt4q",
        "outputId": "2d282432-2651-4d8d-d313-eb00b18993df"
      },
      "source": [
        "valx1=df.loc[:39,\"T(K)\"]\n",
        "valy1=df.loc[:39,\"λ_max\"]\n",
        "x1=valx1.values\n",
        "y1=valy1.values\n",
        "plt.scatter(x1, y1,label=\"Datos del simulador\",color=\"black\") \n",
        "\n",
        "popt, pcov = curve_fit(ft, x1, y1)\n",
        "plt.plot(x1, ft(x1, *popt), 'r-', label='fit: f(x) = 2898 x^-1')\n",
        "\n",
        "plt.grid(b=True,which=\"both\")\n",
        "plt.legend(loc=\"upper right\")\n",
        "plt.xscale(\"log\")\n",
        "plt.yscale(\"log\")\n",
        "plt.xlabel(\"Temperatura[K]\")\n",
        "plt.ylabel(\"Longitud de onda máxima[μm]\")\n",
        "plt.title(\"Ley de Desplazamiento de Wien\")"
      ],
      "execution_count": null,
      "outputs": [
        {
          "output_type": "execute_result",
          "data": {
            "text/plain": [
              "Text(0.5, 1.0, 'Ley de Desplazamiento de Wien')"
            ]
          },
          "metadata": {},
          "execution_count": 7
        },
        {
          "output_type": "display_data",
          "data": {
            "image/png": "[encoded data removed]",
            "text/plain": [
              "<Figure size 432x288 with 1 Axes>"
            ]
          },
          "metadata": {
            "needs_background": "light"
          }
        }
      ]
    },
    {
      "cell_type": "code",
      "metadata": {
        "colab": {
          "base_uri": "https://localhost:8080/"
        },
        "id": "NHUNOwuTIXFA",
        "outputId": "caab2ce8-1966-440c-acb0-e85d0895c3e7"
      },
      "source": [
        "def ft(x,a):\n",
        "  return a/x\n",
        "popt, pcov = curve_fit(ft, x1, y1)\n",
        "popt"
      ],
      "execution_count": null,
      "outputs": [
        {
          "output_type": "execute_result",
          "data": {
            "text/plain": [
              "array([2897.74381601])"
            ]
          },
          "metadata": {},
          "execution_count": 6
        }
      ]
    },
    {
      "cell_type": "markdown",
      "metadata": {
        "id": "ErlnE5ZDw-iy"
      },
      "source": [
        "# Table"
      ]
    },
    {
      "cell_type": "code",
      "metadata": {
        "colab": {
          "base_uri": "https://localhost:8080/",
          "height": 204
        },
        "id": "o-Hxs3Y7xCuN",
        "outputId": "ea08baa2-1cd7-4fdb-c51a-6a0adf54c273"
      },
      "source": [
        "worksheet5=wb.worksheet('Table')\n",
        "rows5 = worksheet5.get_all_values()\n",
        "d5=pd.DataFrame(rows5)\n",
        "titles=pd.DataFrame(rows5)\n",
        "d5.columns = d5.iloc[0]# Esto pone las columnas del dataframe con los mismos nombres que la primera fila del sheets\n",
        "titles=titles.iloc[0:1]\n",
        "d5 = d5.iloc[1:]#esto se salta la primera fila que es los titulos de las columnas porque ya nombramos a las columnas en la linea anterior y se repetirian\n",
        "d5.head()"
      ],
      "execution_count": null,
      "outputs": [
        {
          "output_type": "execute_result",
          "data": {
            "text/html": [
              "<div>\n",
              "<style scoped>\n",
              "    .dataframe tbody tr th:only-of-type {\n",
              "        vertical-align: middle;\n",
              "    }\n",
              "\n",
              "    .dataframe tbody tr th {\n",
              "        vertical-align: top;\n",
              "    }\n",
              "\n",
              "    .dataframe thead th {\n",
              "        text-align: right;\n",
              "    }\n",
              "</style>\n",
              "<table border=\"1\" class=\"dataframe\">\n",
              "  <thead>\n",
              "    <tr style=\"text-align: right;\">\n",
              "      <th></th>\n",
              "      <th>R/Ro</th>\n",
              "      <th>T[K]</th>\n",
              "    </tr>\n",
              "  </thead>\n",
              "  <tbody>\n",
              "    <tr>\n",
              "      <th>1</th>\n",
              "      <td>1</td>\n",
              "      <td>300</td>\n",
              "    </tr>\n",
              "    <tr>\n",
              "      <th>2</th>\n",
              "      <td>1.43</td>\n",
              "      <td>400</td>\n",
              "    </tr>\n",
              "    <tr>\n",
              "      <th>3</th>\n",
              "      <td>1.87</td>\n",
              "      <td>500</td>\n",
              "    </tr>\n",
              "    <tr>\n",
              "      <th>4</th>\n",
              "      <td>2.34</td>\n",
              "      <td>600</td>\n",
              "    </tr>\n",
              "    <tr>\n",
              "      <th>5</th>\n",
              "      <td>2.85</td>\n",
              "      <td>700</td>\n",
              "    </tr>\n",
              "  </tbody>\n",
              "</table>\n",
              "</div>"
            ],
            "text/plain": [
              "0  R/Ro T[K]\n",
              "1     1  300\n",
              "2  1.43  400\n",
              "3  1.87  500\n",
              "4  2.34  600\n",
              "5  2.85  700"
            ]
          },
          "metadata": {},
          "execution_count": 6
        }
      ]
    },
    {
      "cell_type": "code",
      "metadata": {
        "id": "cKSs2Kmqy9v0"
      },
      "source": [
        "nombres5=d5.columns.tolist()\n",
        "for name in nombres5:\n",
        "  d5[name]= pd.to_numeric(d5[name])"
      ],
      "execution_count": null,
      "outputs": []
    },
    {
      "cell_type": "code",
      "metadata": {
        "colab": {
          "base_uri": "https://localhost:8080/",
          "height": 316
        },
        "id": "7rqRPwQLzW5M",
        "outputId": "b6546cce-02ed-4bcf-87cb-0d135d5511b8"
      },
      "source": [
        "valx5=d5.loc[:30, \"R/Ro\"]\n",
        "valy5=d5.loc[:30, \"T[K]\"]\n",
        "x5=valx5.values\n",
        "y5=valy5.values\n",
        "\n",
        "plt.scatter(x5, y5,label=\"Datos experimentales\",color=\"black\")\n",
        "\n",
        "popt, pcov = curve_fit(f1, x5, y5)\n",
        "plt.plot(x5, f1(x5, *popt), 'r-', label='fit: f(x) = 290.1x^0.837')\n",
        "\n",
        "plt.loglog(basex=10,basey=10)\n",
        "plt.grid(b=True,which=\"both\")\n",
        "plt.legend(loc=\"lower right\")\n",
        "plt.xlabel(\"R/Ro\")\n",
        "plt.ylabel(\"Temperatura [K]\")\n",
        "plt.title(\"Gráfica de T vs (R/Ro) para el tungsteno\")"
      ],
      "execution_count": null,
      "outputs": [
        {
          "output_type": "execute_result",
          "data": {
            "text/plain": [
              "Text(0.5, 1.0, 'Gráfica de T vs (R/Ro) para el tungsteno')"
            ]
          },
          "metadata": {},
          "execution_count": 8
        },
        {
          "output_type": "display_data",
          "data": {
            "image/png": "[encoded data removed]",
            "text/plain": [
              "<Figure size 432x288 with 1 Axes>"
            ]
          },
          "metadata": {
            "needs_background": "light"
          }
        }
      ]
    },
    {
      "cell_type": "code",
      "metadata": {
        "id": "sUiAEkk81eHW",
        "colab": {
          "base_uri": "https://localhost:8080/"
        },
        "outputId": "79c5bbce-a227-48e0-d978-007e8a16623a"
      },
      "source": [
        "popt, pcov = curve_fit(f1, x5, y5)\n",
        "popt"
      ],
      "execution_count": null,
      "outputs": [
        {
          "output_type": "execute_result",
          "data": {
            "text/plain": [
              "array([290.1047153 ,   0.83716985])"
            ]
          },
          "metadata": {},
          "execution_count": 25
        }
      ]
    },
    {
      "cell_type": "markdown",
      "metadata": {
        "id": "NcnvQUX2Y92g"
      },
      "source": [
        "# Parte I\n"
      ]
    },
    {
      "cell_type": "code",
      "metadata": {
        "colab": {
          "base_uri": "https://localhost:8080/",
          "height": 275
        },
        "id": "fwJ_ylZxVCeY",
        "outputId": "2892e4c4-397a-4eb8-ca15-3c1e0dea213c"
      },
      "source": [
        "worksheet6=wb.worksheet('PARTE I')\n",
        "rows6 = worksheet6.get_all_values()\n",
        "d6=pd.DataFrame(rows6)\n",
        "titles=pd.DataFrame(rows6)\n",
        "d6.columns = d6.iloc[0]# Esto pone las columnas del dataframe con los mismos nombres que la primera fila del sheets\n",
        "titles=titles.iloc[0:1]\n",
        "d6 = d6.iloc[1:]#esto se salta la primera fila que es los titulos de las columnas porque ya nombramos a las columnas en la linea anterior y se repetirian\n",
        "d6.head()"
      ],
      "execution_count": null,
      "outputs": [
        {
          "output_type": "execute_result",
          "data": {
            "text/html": [
              "<div>\n",
              "<style scoped>\n",
              "    .dataframe tbody tr th:only-of-type {\n",
              "        vertical-align: middle;\n",
              "    }\n",
              "\n",
              "    .dataframe tbody tr th {\n",
              "        vertical-align: top;\n",
              "    }\n",
              "\n",
              "    .dataframe thead th {\n",
              "        text-align: right;\n",
              "    }\n",
              "</style>\n",
              "<table border=\"1\" class=\"dataframe\">\n",
              "  <thead>\n",
              "    <tr style=\"text-align: right;\">\n",
              "      <th></th>\n",
              "      <th>VolFilamento [V]</th>\n",
              "      <th>IF (Corriente Filamento) [A]</th>\n",
              "      <th>Resistencia Filamento</th>\n",
              "      <th>Incertidumbre R</th>\n",
              "      <th>V-TP-0 [mV]</th>\n",
              "      <th>V-TP [mV]</th>\n",
              "      <th>Diferencia</th>\n",
              "      <th>Incertidumbre diferencia</th>\n",
              "      <th>R/Ro</th>\n",
              "      <th>Incertidumbre R/Ro</th>\n",
              "      <th>T[K]</th>\n",
              "      <th>Incertidumbre T[K]</th>\n",
              "      <th>P[mW]</th>\n",
              "      <th>Incertidumbre P[mW]</th>\n",
              "      <th>PP</th>\n",
              "    </tr>\n",
              "  </thead>\n",
              "  <tbody>\n",
              "    <tr>\n",
              "      <th>1</th>\n",
              "      <td>12.0</td>\n",
              "      <td>1.76</td>\n",
              "      <td>6.82</td>\n",
              "      <td>0.05</td>\n",
              "      <td>0.0</td>\n",
              "      <td>17.6</td>\n",
              "      <td>17.6</td>\n",
              "      <td>0.1</td>\n",
              "      <td>13.6</td>\n",
              "      <td>0.1</td>\n",
              "      <td>2585</td>\n",
              "      <td>15</td>\n",
              "      <td>0.800</td>\n",
              "      <td>0.005</td>\n",
              "      <td>0.222</td>\n",
              "    </tr>\n",
              "    <tr>\n",
              "      <th>2</th>\n",
              "      <td>11.5</td>\n",
              "      <td>1.71</td>\n",
              "      <td>6.73</td>\n",
              "      <td>0.05</td>\n",
              "      <td>0.3</td>\n",
              "      <td>16.7</td>\n",
              "      <td>16.4</td>\n",
              "      <td></td>\n",
              "      <td>13.5</td>\n",
              "      <td>0.1</td>\n",
              "      <td>2556</td>\n",
              "      <td>16</td>\n",
              "      <td>0.745</td>\n",
              "      <td></td>\n",
              "      <td>0.207</td>\n",
              "    </tr>\n",
              "    <tr>\n",
              "      <th>3</th>\n",
              "      <td>11.0</td>\n",
              "      <td>1.60</td>\n",
              "      <td>6.88</td>\n",
              "      <td>0.05</td>\n",
              "      <td>0.6</td>\n",
              "      <td>15.7</td>\n",
              "      <td>15.1</td>\n",
              "      <td></td>\n",
              "      <td>13.8</td>\n",
              "      <td>0.1</td>\n",
              "      <td>2603</td>\n",
              "      <td>17</td>\n",
              "      <td>0.686</td>\n",
              "      <td></td>\n",
              "      <td>0.191</td>\n",
              "    </tr>\n",
              "    <tr>\n",
              "      <th>4</th>\n",
              "      <td>10.5</td>\n",
              "      <td>1.63</td>\n",
              "      <td>6.44</td>\n",
              "      <td>0.05</td>\n",
              "      <td>0.7</td>\n",
              "      <td>14.8</td>\n",
              "      <td>14.1</td>\n",
              "      <td></td>\n",
              "      <td>12.9</td>\n",
              "      <td>0.1</td>\n",
              "      <td>2465</td>\n",
              "      <td>16</td>\n",
              "      <td>0.641</td>\n",
              "      <td></td>\n",
              "      <td>0.178</td>\n",
              "    </tr>\n",
              "    <tr>\n",
              "      <th>5</th>\n",
              "      <td>10.0</td>\n",
              "      <td>1.59</td>\n",
              "      <td>6.29</td>\n",
              "      <td>0.05</td>\n",
              "      <td>0.9</td>\n",
              "      <td>13.8</td>\n",
              "      <td>12.9</td>\n",
              "      <td></td>\n",
              "      <td>12.6</td>\n",
              "      <td>0.1</td>\n",
              "      <td>2416</td>\n",
              "      <td>16</td>\n",
              "      <td>0.586</td>\n",
              "      <td></td>\n",
              "      <td>0.163</td>\n",
              "    </tr>\n",
              "  </tbody>\n",
              "</table>\n",
              "</div>"
            ],
            "text/plain": [
              "0 VolFilamento [V] IF (Corriente Filamento) [A]  ... Incertidumbre P[mW]     PP\n",
              "1             12.0                         1.76  ...               0.005  0.222\n",
              "2             11.5                         1.71  ...                      0.207\n",
              "3             11.0                         1.60  ...                      0.191\n",
              "4             10.5                         1.63  ...                      0.178\n",
              "5             10.0                         1.59  ...                      0.163\n",
              "\n",
              "[5 rows x 15 columns]"
            ]
          },
          "metadata": {},
          "execution_count": 9
        }
      ]
    },
    {
      "cell_type": "code",
      "metadata": {
        "colab": {
          "base_uri": "https://localhost:8080/"
        },
        "id": "US3m2vQoXhQR",
        "outputId": "105c3325-673c-46b7-fbb8-8eb033424514"
      },
      "source": [
        "d6.columns"
      ],
      "execution_count": null,
      "outputs": [
        {
          "output_type": "execute_result",
          "data": {
            "text/plain": [
              "Index(['VolFilamento [V]', 'IF (Corriente Filamento) [A]',\n",
              "       'Resistencia Filamento', 'Incertidumbre R', 'V-TP-0 [mV]', 'V-TP [mV]',\n",
              "       'Diferencia', 'Incertidumbre diferencia', 'R/Ro', 'Incertidumbre R/Ro',\n",
              "       'T[K]', 'Incertidumbre T[K]', 'P[mW]', 'Incertidumbre P[mW]', 'PP'],\n",
              "      dtype='object', name=0)"
            ]
          },
          "metadata": {},
          "execution_count": 3
        }
      ]
    },
    {
      "cell_type": "code",
      "metadata": {
        "id": "AcKOfBjTWlxd"
      },
      "source": [
        "nombres6=d6.columns.tolist()\n",
        "for name in nombres6:\n",
        "  d6[name]= pd.to_numeric(d6[name])"
      ],
      "execution_count": null,
      "outputs": []
    },
    {
      "cell_type": "code",
      "metadata": {
        "id": "RBhX1cFwGbnK"
      },
      "source": [
        "def fw(x,a, b):\n",
        "  return a*x**(3.85) "
      ],
      "execution_count": null,
      "outputs": []
    },
    {
      "cell_type": "code",
      "metadata": {
        "colab": {
          "base_uri": "https://localhost:8080/",
          "height": 350
        },
        "id": "wBzsYBS97mB8",
        "outputId": "e50ef999-90cf-4fe5-d7d6-f647b1299608"
      },
      "source": [
        "valx6=d6.loc[:23, \"T[K]\"]\n",
        "valy6=d6.loc[:23, \"P[mW]\"]\n",
        "x6=valx6.values\n",
        "y6=valy6.values\n",
        "plt.scatter(x6, y6,label=\"Datos experimentales\",color=\"black\")\n",
        "\n",
        "popt, pcov = curve_fit(fw, x6, y6)\n",
        "plt.plot(x6, fw(x6, *popt), 'r-', label='f(x) = 5.24 e-14 x^3.85')\n",
        "\n",
        "plt.loglog(basex=10,basey=10)\n",
        "plt.grid(b=True,which=\"both\")\n",
        "plt.legend(loc=\"lower right\")\n",
        "plt.xlabel(\"Temperatura [K]\")\n",
        "plt.ylabel(\"Potencia [mW]\")\n",
        "plt.title(\"Ley de Stefan-Boltzmann\")"
      ],
      "execution_count": null,
      "outputs": [
        {
          "output_type": "stream",
          "name": "stderr",
          "text": [
            "/usr/local/lib/python3.7/dist-packages/scipy/optimize/minpack.py:808: OptimizeWarning: Covariance of the parameters could not be estimated\n",
            "  category=OptimizeWarning)\n"
          ]
        },
        {
          "output_type": "execute_result",
          "data": {
            "text/plain": [
              "Text(0.5, 1.0, 'Ley de Stefan-Boltzmann')"
            ]
          },
          "metadata": {},
          "execution_count": 27
        },
        {
          "output_type": "display_data",
          "data": {
            "image/png": "[encoded data removed]",
            "text/plain": [
              "<Figure size 432x288 with 1 Axes>"
            ]
          },
          "metadata": {
            "needs_background": "light"
          }
        }
      ]
    },
    {
      "cell_type": "code",
      "metadata": {
        "colab": {
          "base_uri": "https://localhost:8080/"
        },
        "id": "OehFV6tSHJBp",
        "outputId": "0c8630b0-26c6-4f52-bf95-b51c09f3eecb"
      },
      "source": [
        "def fw(x,a,b):\n",
        "  return a*x**(3.85) \n",
        "popt, pcov = curve_fit(fw, x6, y6)\n",
        "popt"
      ],
      "execution_count": null,
      "outputs": [
        {
          "output_type": "stream",
          "name": "stderr",
          "text": [
            "/usr/local/lib/python3.7/dist-packages/scipy/optimize/minpack.py:808: OptimizeWarning: Covariance of the parameters could not be estimated\n",
            "  category=OptimizeWarning)\n"
          ]
        },
        {
          "output_type": "execute_result",
          "data": {
            "text/plain": [
              "array([5.46202305e-14, 1.00000000e+00])"
            ]
          },
          "metadata": {},
          "execution_count": 21
        }
      ]
    },
    {
      "cell_type": "code",
      "metadata": {
        "colab": {
          "base_uri": "https://localhost:8080/",
          "height": 350
        },
        "id": "J9588DfuITGK",
        "outputId": "6d785ed7-dca4-4c7e-b9ba-af49e5e71418"
      },
      "source": [
        "valx8=d6.loc[:23, \"T[K]\"]\n",
        "valy8=d6.loc[:23, \"PP\"]\n",
        "x8=valx8.values\n",
        "y8=valy8.values\n",
        "plt.scatter(x8, y8,label=\"Datos experimentales\",color=\"black\")\n",
        "\n",
        "popt, pcov = curve_fit(fw, x8, y8)\n",
        "plt.plot(x8, fw(x8, *popt), 'r-', label='fit: a=%5.5f, b=%5.5f' % tuple(popt))\n",
        "\n",
        "plt.loglog(basex=10,basey=10)\n",
        "plt.grid(b=True,which=\"both\")\n",
        "plt.legend(loc=\"lower right\")\n",
        "plt.xlabel(\"Temperatura [K]\")\n",
        "plt.ylabel(\"Potencia [mW]\")\n",
        "plt.title(\"Ley de Stefan-Boltzmann\")"
      ],
      "execution_count": null,
      "outputs": [
        {
          "output_type": "stream",
          "name": "stderr",
          "text": [
            "/usr/local/lib/python3.7/dist-packages/scipy/optimize/minpack.py:808: OptimizeWarning: Covariance of the parameters could not be estimated\n",
            "  category=OptimizeWarning)\n"
          ]
        },
        {
          "output_type": "execute_result",
          "data": {
            "text/plain": [
              "Text(0.5, 1.0, 'Ley de Stefan-Boltzmann')"
            ]
          },
          "metadata": {},
          "execution_count": 14
        },
        {
          "output_type": "display_data",
          "data": {
            "image/png": "[encoded data removed]",
            "text/plain": [
              "<Figure size 432x288 with 1 Axes>"
            ]
          },
          "metadata": {
            "needs_background": "light"
          }
        }
      ]
    },
    {
      "cell_type": "code",
      "metadata": {
        "colab": {
          "base_uri": "https://localhost:8080/"
        },
        "id": "dNqsnb76JN0H",
        "outputId": "78b455ed-af39-4dc6-bde2-16bb7c6437a2"
      },
      "source": [
        "def fw(x,a,b):\n",
        "  return a*x**(4) \n",
        "popt, pcov = curve_fit(fw, x8, y8)\n",
        "popt"
      ],
      "execution_count": null,
      "outputs": [
        {
          "output_type": "stream",
          "name": "stderr",
          "text": [
            "/usr/local/lib/python3.7/dist-packages/scipy/optimize/minpack.py:808: OptimizeWarning: Covariance of the parameters could not be estimated\n",
            "  category=OptimizeWarning)\n"
          ]
        },
        {
          "output_type": "execute_result",
          "data": {
            "text/plain": [
              "array([4.72495227e-15, 1.00000000e+00])"
            ]
          },
          "metadata": {},
          "execution_count": 86
        }
      ]
    },
    {
      "cell_type": "markdown",
      "metadata": {
        "id": "a8nhVzdcZNRk"
      },
      "source": [
        "# Parte II"
      ]
    },
    {
      "cell_type": "code",
      "metadata": {
        "colab": {
          "base_uri": "https://localhost:8080/",
          "height": 206
        },
        "id": "q1P3qPyRZRdd",
        "outputId": "d933316e-f675-4b21-ea3b-421bd6f5539f"
      },
      "source": [
        "worksheet2=wb.worksheet('PARTE II')\n",
        "rows2 = worksheet2.get_all_values()\n",
        "d2=pd.DataFrame(rows2)\n",
        "titles=pd.DataFrame(rows2)\n",
        "d2.columns = d2.iloc[0]# Esto pone las columnas del dataframe con los mismos nombres que la primera fila del sheets\n",
        "titles=titles.iloc[0:1]\n",
        "d2 = d2.iloc[1:]#esto se salta la primera fila que es los titulos de las columnas porque ya nombramos a las columnas en la linea anterior y se repetirian\n",
        "d2.head()"
      ],
      "execution_count": null,
      "outputs": [
        {
          "output_type": "execute_result",
          "data": {
            "text/html": [
              "<div>\n",
              "<style scoped>\n",
              "    .dataframe tbody tr th:only-of-type {\n",
              "        vertical-align: middle;\n",
              "    }\n",
              "\n",
              "    .dataframe tbody tr th {\n",
              "        vertical-align: top;\n",
              "    }\n",
              "\n",
              "    .dataframe thead th {\n",
              "        text-align: right;\n",
              "    }\n",
              "</style>\n",
              "<table border=\"1\" class=\"dataframe\">\n",
              "  <thead>\n",
              "    <tr style=\"text-align: right;\">\n",
              "      <th></th>\n",
              "      <th>D [cm]</th>\n",
              "      <th>V-TP-0 [mV]</th>\n",
              "      <th>V-TP [mV]</th>\n",
              "      <th>Diferencia</th>\n",
              "      <th>P[mW]</th>\n",
              "      <th>Incertidumbre de P [0.005]</th>\n",
              "    </tr>\n",
              "  </thead>\n",
              "  <tbody>\n",
              "    <tr>\n",
              "      <th>1</th>\n",
              "      <td>4</td>\n",
              "      <td>0.3</td>\n",
              "      <td>43.9</td>\n",
              "      <td>43.6</td>\n",
              "      <td>1.982</td>\n",
              "      <td>0.005</td>\n",
              "    </tr>\n",
              "    <tr>\n",
              "      <th>2</th>\n",
              "      <td>5</td>\n",
              "      <td>0.9</td>\n",
              "      <td>28.9</td>\n",
              "      <td>28.0</td>\n",
              "      <td>1.273</td>\n",
              "      <td></td>\n",
              "    </tr>\n",
              "    <tr>\n",
              "      <th>3</th>\n",
              "      <td>6</td>\n",
              "      <td>0.8</td>\n",
              "      <td>20.3</td>\n",
              "      <td>19.5</td>\n",
              "      <td>0.886</td>\n",
              "      <td></td>\n",
              "    </tr>\n",
              "    <tr>\n",
              "      <th>4</th>\n",
              "      <td>7</td>\n",
              "      <td>0.8</td>\n",
              "      <td>15.0</td>\n",
              "      <td>14.2</td>\n",
              "      <td>0.645</td>\n",
              "      <td></td>\n",
              "    </tr>\n",
              "    <tr>\n",
              "      <th>5</th>\n",
              "      <td>8</td>\n",
              "      <td>0.7</td>\n",
              "      <td>11.6</td>\n",
              "      <td>10.9</td>\n",
              "      <td>0.495</td>\n",
              "      <td></td>\n",
              "    </tr>\n",
              "  </tbody>\n",
              "</table>\n",
              "</div>"
            ],
            "text/plain": [
              "0 D [cm] V-TP-0 [mV] V-TP [mV] Diferencia  P[mW] Incertidumbre de P [0.005]\n",
              "1      4         0.3      43.9       43.6  1.982                      0.005\n",
              "2      5         0.9      28.9       28.0  1.273                           \n",
              "3      6         0.8      20.3       19.5  0.886                           \n",
              "4      7         0.8      15.0       14.2  0.645                           \n",
              "5      8         0.7      11.6       10.9  0.495                           "
            ]
          },
          "metadata": {},
          "execution_count": 13
        }
      ]
    },
    {
      "cell_type": "code",
      "metadata": {
        "id": "EIZeRRQXaTnl"
      },
      "source": [
        "nombres2=d2.columns.tolist()\n",
        "for name in nombres2:\n",
        "  d2[name]= pd.to_numeric(d2[name])"
      ],
      "execution_count": null,
      "outputs": []
    },
    {
      "cell_type": "code",
      "metadata": {
        "colab": {
          "base_uri": "https://localhost:8080/",
          "height": 316
        },
        "id": "1aIgRKPbank6",
        "outputId": "2a9154b0-390a-41ea-aa7b-c5ca0147920c"
      },
      "source": [
        "valx2=d2.loc[:30, \"D [cm]\"]\n",
        "valy2=d2.loc[:30, \"P[mW]\"]\n",
        "x2=valx2.values\n",
        "y2=valy2.values\n",
        "\n",
        "plt.scatter(x2, y2,label=\"Datos experimentales\",color=\"black\")\n",
        "\n",
        "popt, pcov = curve_fit(f1, x2, y2)\n",
        "plt.plot(x2, f1(x2, *popt), 'r-', label='f(x) = 31.5 x^-1.99')\n",
        "\n",
        "plt.loglog(basex=10,basey=10)\n",
        "plt.grid(b=True,which=\"both\")\n",
        "plt.legend(loc=\"upper right\")\n",
        "plt.xlabel(\"Distancia, d [cm]\")\n",
        "plt.ylabel(\"Potencia, P [mW]\")\n",
        "plt.title(\"Ley del inverso de la distancia\")"
      ],
      "execution_count": null,
      "outputs": [
        {
          "output_type": "execute_result",
          "data": {
            "text/plain": [
              "Text(0.5, 1.0, 'Ley del inverso de la distancia')"
            ]
          },
          "metadata": {},
          "execution_count": 15
        },
        {
          "output_type": "display_data",
          "data": {
            "image/png": "[encoded data removed]",
            "text/plain": [
              "<Figure size 432x288 with 1 Axes>"
            ]
          },
          "metadata": {
            "needs_background": "light"
          }
        }
      ]
    },
    {
      "cell_type": "code",
      "metadata": {
        "colab": {
          "base_uri": "https://localhost:8080/"
        },
        "id": "OClY6dncbo_T",
        "outputId": "1fb5fca6-2d3d-49d1-aed5-3d62969c8f04"
      },
      "source": [
        "def fv(x,a):\n",
        "  return a*x**(-2)\n",
        "popt, pcov = curve_fit(fv, x2, y2)\n",
        "popt"
      ],
      "execution_count": null,
      "outputs": [
        {
          "output_type": "execute_result",
          "data": {
            "text/plain": [
              "array([31.75102774])"
            ]
          },
          "metadata": {},
          "execution_count": 41
        }
      ]
    },
    {
      "cell_type": "markdown",
      "metadata": {
        "id": "Fi4MCayjiB9a"
      },
      "source": [
        "#PARTE III"
      ]
    },
    {
      "cell_type": "code",
      "metadata": {
        "colab": {
          "base_uri": "https://localhost:8080/",
          "height": 206
        },
        "id": "_Sd3tx0niE9z",
        "outputId": "8df14bd4-c223-46c1-9124-fd647349cae1"
      },
      "source": [
        "worksheet3=wb.worksheet('PARTE III')\n",
        "rows3 = worksheet3.get_all_values()\n",
        "d3=pd.DataFrame(rows3)\n",
        "titles=pd.DataFrame(rows3)\n",
        "d3.columns = d3.iloc[0]# Esto pone las columnas del dataframe con los mismos nombres que la primera fila del sheets\n",
        "titles=titles.iloc[0:1]\n",
        "d3 = d3.iloc[1:]#esto se salta la primera fila que es los titulos de las columnas porque ya nombramos a las columnas en la linea anterior y se repetirian\n",
        "d3.head()"
      ],
      "execution_count": null,
      "outputs": [
        {
          "output_type": "execute_result",
          "data": {
            "text/html": [
              "<div>\n",
              "<style scoped>\n",
              "    .dataframe tbody tr th:only-of-type {\n",
              "        vertical-align: middle;\n",
              "    }\n",
              "\n",
              "    .dataframe tbody tr th {\n",
              "        vertical-align: top;\n",
              "    }\n",
              "\n",
              "    .dataframe thead th {\n",
              "        text-align: right;\n",
              "    }\n",
              "</style>\n",
              "<table border=\"1\" class=\"dataframe\">\n",
              "  <thead>\n",
              "    <tr style=\"text-align: right;\">\n",
              "      <th></th>\n",
              "      <th>VF [mV]</th>\n",
              "      <th>IF [mA]</th>\n",
              "      <th>R</th>\n",
              "      <th>Incertidumbre R</th>\n",
              "    </tr>\n",
              "  </thead>\n",
              "  <tbody>\n",
              "    <tr>\n",
              "      <th>1</th>\n",
              "      <td>89.4</td>\n",
              "      <td>163.4</td>\n",
              "      <td>0.5471</td>\n",
              "      <td>0.0005</td>\n",
              "    </tr>\n",
              "    <tr>\n",
              "      <th>2</th>\n",
              "      <td>78.7</td>\n",
              "      <td>146.4</td>\n",
              "      <td>0.5376</td>\n",
              "      <td>0.0005</td>\n",
              "    </tr>\n",
              "    <tr>\n",
              "      <th>3</th>\n",
              "      <td>70.9</td>\n",
              "      <td>133.4</td>\n",
              "      <td>0.5315</td>\n",
              "      <td>0.0006</td>\n",
              "    </tr>\n",
              "    <tr>\n",
              "      <th>4</th>\n",
              "      <td>60.6</td>\n",
              "      <td>115.7</td>\n",
              "      <td>0.5238</td>\n",
              "      <td>0.0007</td>\n",
              "    </tr>\n",
              "    <tr>\n",
              "      <th>5</th>\n",
              "      <td>56.4</td>\n",
              "      <td>108.4</td>\n",
              "      <td>0.5203</td>\n",
              "      <td>0.0007</td>\n",
              "    </tr>\n",
              "  </tbody>\n",
              "</table>\n",
              "</div>"
            ],
            "text/plain": [
              "0 VF [mV] IF [mA]       R Incertidumbre R\n",
              "1    89.4   163.4  0.5471          0.0005\n",
              "2    78.7   146.4  0.5376          0.0005\n",
              "3    70.9   133.4  0.5315          0.0006\n",
              "4    60.6   115.7  0.5238          0.0007\n",
              "5    56.4   108.4  0.5203          0.0007"
            ]
          },
          "metadata": {},
          "execution_count": 16
        }
      ]
    },
    {
      "cell_type": "code",
      "metadata": {
        "id": "RI6u7qYYisMG"
      },
      "source": [
        "nombres3=d3.columns.tolist()\n",
        "for name in nombres3:\n",
        "  d3[name]= pd.to_numeric(d3[name])"
      ],
      "execution_count": null,
      "outputs": []
    },
    {
      "cell_type": "code",
      "metadata": {
        "colab": {
          "base_uri": "https://localhost:8080/"
        },
        "id": "qs3Vknac7eeq",
        "outputId": "f9f9af1a-74ba-4594-d0e0-35a6ba05267b"
      },
      "source": [
        "d3.columns"
      ],
      "execution_count": null,
      "outputs": [
        {
          "output_type": "execute_result",
          "data": {
            "text/plain": [
              "Index(['VF [mV]', 'IF [mA]', 'R', 'Incertidumbre R'], dtype='object', name=0)"
            ]
          },
          "metadata": {},
          "execution_count": 18
        }
      ]
    },
    {
      "cell_type": "code",
      "metadata": {
        "id": "XQhb5JaXCRtl"
      },
      "source": [
        "def func(x,a,b):\n",
        "  return a*x + b"
      ],
      "execution_count": null,
      "outputs": []
    },
    {
      "cell_type": "code",
      "metadata": {
        "id": "217DYTy8jI_W",
        "colab": {
          "base_uri": "https://localhost:8080/",
          "height": 312
        },
        "outputId": "69e689bf-74a6-4f3b-a6b0-cc7e1dc0ba45"
      },
      "source": [
        "valx3=d3.loc[:30, \"IF [mA]\"]\n",
        "valy3=d3.loc[:30, \"R\"]\n",
        "x3=valx3.values\n",
        "y3=valy3.values\n",
        "\n",
        "plt.scatter(x3, y3,label=\"Datos experimentales\",color=\"black\")\n",
        "\n",
        "popt, pcov = curve_fit(func, x3, y3)\n",
        "plt.plot(x3, func(x3, *popt), 'r-', label='f(x) = 2.62e-04 x + 5e-01')\n",
        "\n",
        "plt.xlim([0, 165])\n",
        "plt.ylim([0, 1])\n",
        "\n",
        "plt.grid(b=True,which=\"both\")\n",
        "plt.legend(loc=\"lower right\")\n",
        "plt.xlabel(\"Corriente del filamento, I [mA]\")\n",
        "plt.ylabel(\"Resistencia del filamento, R [Ω]\")\n",
        "plt.title(\"Resistencia a temperatura ambiente del filamento, Ro\")"
      ],
      "execution_count": null,
      "outputs": [
        {
          "output_type": "execute_result",
          "data": {
            "text/plain": [
              "Text(0.5, 1.0, 'Resistencia a temperatura ambiente del filamento, Ro')"
            ]
          },
          "metadata": {},
          "execution_count": 20
        },
        {
          "output_type": "display_data",
          "data": {
            "image/png": "[encoded data removed]",
            "text/plain": [
              "<Figure size 432x288 with 1 Axes>"
            ]
          },
          "metadata": {
            "needs_background": "light"
          }
        }
      ]
    },
    {
      "cell_type": "code",
      "metadata": {
        "colab": {
          "base_uri": "https://localhost:8080/"
        },
        "id": "Mvu0vmTKFEyo",
        "outputId": "807824fe-ba71-43b1-93b9-03dd46c1633b"
      },
      "source": [
        "#np.polyfit(x3, y3, 1)\n",
        "popt, pcov = curve_fit(func, x3, y3)\n",
        "popt"
      ],
      "execution_count": null,
      "outputs": [
        {
          "output_type": "execute_result",
          "data": {
            "text/plain": [
              "array([2.6241880e-04, 4.9632472e-01])"
            ]
          },
          "metadata": {},
          "execution_count": 21
        }
      ]
    },
    {
      "cell_type": "markdown",
      "metadata": {
        "id": "dEc_PvhXY3vh"
      },
      "source": [
        "https://mmas.github.io/least-squares-fitting-numpy-scipy"
      ]
    },
    {
      "cell_type": "markdown",
      "metadata": {
        "id": "2FhUr-S6TlH4"
      },
      "source": [
        "#Error relativo"
      ]
    },
    {
      "cell_type": "code",
      "metadata": {
        "id": "dqOlgthPY3OT",
        "colab": {
          "base_uri": "https://localhost:8080/"
        },
        "outputId": "2b7204f3-ce4b-4122-8043-7dcf40ac34cf"
      },
      "source": [
        "((4.08-4)/4)*100"
      ],
      "execution_count": null,
      "outputs": [
        {
          "output_type": "execute_result",
          "data": {
            "text/plain": [
              "2.0000000000000018"
            ]
          },
          "metadata": {},
          "execution_count": 22
        }
      ]
    },
    {
      "cell_type": "code",
      "metadata": {
        "colab": {
          "base_uri": "https://localhost:8080/"
        },
        "id": "B_M2hy-5nfkd",
        "outputId": "445872a6-e440-412e-c4ad-4402076dbb66"
      },
      "source": [
        "((2-1.99 )/2)*100"
      ],
      "execution_count": null,
      "outputs": [
        {
          "output_type": "execute_result",
          "data": {
            "text/plain": [
              "0.5000000000000004"
            ]
          },
          "metadata": {},
          "execution_count": 27
        }
      ]
    },
    {
      "cell_type": "code",
      "metadata": {
        "id": "G2gKvAzETr-I",
        "colab": {
          "base_uri": "https://localhost:8080/"
        },
        "outputId": "d6360212-a072-421f-c488-51ec20af0aee"
      },
      "source": [
        "(0.005*100)/ 0.009 \n"
      ],
      "execution_count": null,
      "outputs": [
        {
          "output_type": "execute_result",
          "data": {
            "text/plain": [
              "55.55555555555556"
            ]
          },
          "metadata": {},
          "execution_count": 2
        }
      ]
    },
    {
      "cell_type": "code",
      "metadata": {
        "colab": {
          "base_uri": "https://localhost:8080/"
        },
        "id": "3GEIfxOuMTDK",
        "outputId": "63930169-a190-4754-fd5e-f6416166fa32"
      },
      "source": [
        "(0.005*100)/ 0.05"
      ],
      "execution_count": null,
      "outputs": [
        {
          "output_type": "execute_result",
          "data": {
            "text/plain": [
              "10.0"
            ]
          },
          "metadata": {},
          "execution_count": 3
        }
      ]
    },
    {
      "cell_type": "code",
      "metadata": {
        "colab": {
          "base_uri": "https://localhost:8080/"
        },
        "id": "hVD8mOmqOGgO",
        "outputId": "3b522263-2bd7-47ec-e7ba-69ffbfff4cf6"
      },
      "source": [
        "(0.005*100)/ 0.068"
      ],
      "execution_count": null,
      "outputs": [
        {
          "output_type": "execute_result",
          "data": {
            "text/plain": [
              "7.352941176470588"
            ]
          },
          "metadata": {},
          "execution_count": 4
        }
      ]
    },
    {
      "cell_type": "code",
      "metadata": {
        "id": "0pIv0s-XVg90"
      },
      "source": [
        ""
      ],
      "execution_count": null,
      "outputs": []
    }
  ]
}